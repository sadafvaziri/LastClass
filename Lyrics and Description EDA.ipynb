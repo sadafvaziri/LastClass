{
 "cells": [
  {
   "cell_type": "markdown",
   "id": "7f79baf9",
   "metadata": {},
   "source": [
    "# ADS 509 Assignment 2.1: Tokenization, Normalization, Descriptive Statistics \n",
    "\n",
    "This notebook holds Assignment 2.1 for Module 2 in ADS 509, Applied Text Mining. Work through this notebook, writing code and answering questions where required. \n",
    "\n",
    "In the previous assignment you pulled lyrics data on two artists. In this assignment we explore this data set and a pull from the now-defunct Twitter API for the artists Cher and Robyn.  If, for some reason, you did not complete that previous assignment, data to use for this assignment can be found in the assignment materials section of Canvas. \n",
    "\n",
    "This assignment asks you to write a short function to calculate some descriptive statistics on a piece of text. Then you are asked to find some interesting and unique statistics on your corpora. \n"
   ]
  },
  {
   "cell_type": "markdown",
   "id": "aae8e2e1",
   "metadata": {},
   "source": [
    "## General Assignment Instructions\n",
    "\n",
    "These instructions are included in every assignment, to remind you of the coding standards for the class. Feel free to delete this cell after reading it. \n",
    "\n",
    "One sign of mature code is conforming to a style guide. We recommend the [Google Python Style Guide](https://google.github.io/styleguide/pyguide.html). If you use a different style guide, please include a cell with a link. \n",
    "\n",
    "Your code should be relatively easy-to-read, sensibly commented, and clean. Writing code is a messy process, so please be sure to edit your final submission. Remove any cells that are not needed or parts of cells that contain unnecessary code. Remove inessential `import` statements and make sure that all such statements are moved into the designated cell. \n",
    "\n",
    "Make use of non-code cells for written commentary. These cells should be grammatical and clearly written. In some of these cells you will have questions to answer. The questions will be marked by a \"Q:\" and will have a corresponding \"A:\" spot for you. *Make sure to answer every question marked with a `Q:` for full credit.* \n"
   ]
  },
  {
   "cell_type": "code",
   "execution_count": 5,
   "id": "e2d096b7",
   "metadata": {},
   "outputs": [],
   "source": [
    "import os\n",
    "import re\n",
    "import emoji\n",
    "import pandas as pd\n",
    "import numpy as np\n",
    "\n",
    "from collections import Counter, defaultdict\n",
    "from nltk.corpus import stopwords\n",
    "from string import punctuation\n",
    "\n",
    "sw = stopwords.words(\"english\")"
   ]
  },
  {
   "cell_type": "code",
   "execution_count": 6,
   "id": "6b555ab2",
   "metadata": {},
   "outputs": [
    {
     "name": "stderr",
     "output_type": "stream",
     "text": [
      "[nltk_data] Downloading package stopwords to\n",
      "[nltk_data]     /Users/sadafvaziri/nltk_data...\n",
      "[nltk_data]   Package stopwords is already up-to-date!\n"
     ]
    },
    {
     "data": {
      "text/plain": [
       "True"
      ]
     },
     "execution_count": 6,
     "metadata": {},
     "output_type": "execute_result"
    }
   ],
   "source": [
    "# Add any additional import statements you need here\n",
    "import nltk\n",
    "nltk.download('stopwords')\n",
    "\n"
   ]
  },
  {
   "cell_type": "code",
   "execution_count": 7,
   "id": "923b5a86",
   "metadata": {},
   "outputs": [],
   "source": [
    "# change `data_location` to the location of the folder on your machine.\n",
    "data_location = \"/users/sadafvaziri/downloads/\"\n",
    "\n",
    "# These subfolders should still work if you correctly stored the \n",
    "# data from the Module 1 assignment\n",
    "twitter_folder = \"twitter/\"\n",
    "lyrics_folder = \"lyrics/\""
   ]
  },
  {
   "cell_type": "code",
   "execution_count": null,
   "id": "06522af9",
   "metadata": {},
   "outputs": [],
   "source": [
    "def descriptive_stats(tokens, num_tokens = 5, verbose=True) :\n",
    "    \"\"\"\n",
    "        Given a list of tokens, print number of tokens, number of unique tokens, \n",
    "        number of characters, lexical diversity (https://en.wikipedia.org/wiki/Lexical_diversity), \n",
    "        and num_tokens most common tokens. Return a list with the number of tokens, number\n",
    "        of unique tokens, lexical diversity, and number of characters. \n",
    "    \n",
    "    \"\"\"\n",
    "\n",
    "    # Fill in the correct values here. \n",
    "    num_tokens = len(tokens)\n",
    "    num_unique_tokens = len(set(tokens))\n",
    "    lexical_diversity = num_unique_tokens / num_tokens if num_tokens else 0\n",
    "    num_characters = sum(len(token) for token in tokens)\n",
    "\n",
    "    if verbose:        \n",
    "    \n",
    "    if verbose :        \n",
    "        print(f\"There are {num_tokens} tokens in the data.\")\n",
    "        print(f\"There are {num_unique_tokens} unique tokens in the data.\")\n",
    "        print(f\"There are {num_characters} characters in the data.\")\n",
    "        print(f\"The lexical diversity is {lexical_diversity:.3f} in the data.\")\n",
    "    \n",
    "        # print the five most common tokens\n",
    "        \n",
    "    return([num_tokens, num_unique_tokens,\n",
    "            lexical_diversity,\n",
    "            num_characters])\n",
    "    "
   ]
  },
  {
   "cell_type": "code",
   "execution_count": 10,
   "id": "59dcf058",
   "metadata": {},
   "outputs": [
    {
     "name": "stdout",
     "output_type": "stream",
     "text": [
      "There are 13 tokens in the data.\n",
      "There are 9 unique tokens in the data.\n",
      "There are 55 characters in the data.\n",
      "The lexical diversity is 0.692 in the data.\n",
      "The 5 most common tokens:\n",
      "  text: 3\n",
      "  here: 2\n",
      "  example: 2\n",
      "  is: 1\n",
      "  some: 1\n"
     ]
    }
   ],
   "source": [
    "text = \"\"\"here is some example text with other example text here in this text\"\"\".split()\n",
    "assert(descriptive_stats(text, verbose=True)[0] == 13)\n",
    "assert(descriptive_stats(text, verbose=False)[1] == 9)\n",
    "assert(abs(descriptive_stats(text, verbose=False)[2] - 0.69) < 0.02)\n",
    "assert(descriptive_stats(text, verbose=False)[3] == 55)\n"
   ]
  },
  {
   "cell_type": "markdown",
   "id": "d2e7e1a2",
   "metadata": {},
   "source": [
    "Q: Why is it beneficial to use assertion statements in your code? \n",
    "\n",
    "A: <!-- Your answer here --> It is beneficial becuase it acts like a self check, making sure the program is working as expected. "
   ]
  },
  {
   "cell_type": "markdown",
   "id": "9d3bf93e",
   "metadata": {},
   "source": [
    "## Data Input\n",
    "\n",
    "Now read in each of the corpora. For the lyrics data, it may be convenient to store the entire contents of the file to make it easier to inspect the titles individually, as you'll do in the last part of the assignment. In the solution, I stored the lyrics data in a dictionary with two dimensions of keys: artist and song. The value was the file contents. A data frame would work equally well. \n",
    "\n",
    "For the Twitter data, we only need the description field for this assignment. Feel free all the descriptions read it into a data structure. In the solution, I stored the descriptions as a dictionary of lists, with the key being the artist. \n",
    "\n",
    "\n"
   ]
  },
  {
   "cell_type": "code",
   "execution_count": null,
   "id": "37d70801",
   "metadata": {},
   "outputs": [],
   "source": [
    "# Read in the lyrics data\n",
    "#cher\n",
    "import os\n",
    "\n",
    "def parse_lyrics_file(file_path):\n",
    "    with open(file_path, 'r', encoding='utf-8') as f:\n",
    "        content = f.read().strip()\n",
    "\n",
    "    blocks = content.split('\\n\\n')\n",
    "    artist = blocks[0].strip().replace('\"', '')\n",
    "    songs = {}\n",
    "\n",
    "    for block in blocks[1:]:\n",
    "        lines = block.strip().split('\\n')\n",
    "        if len(lines) >= 2:\n",
    "            title = lines[0].strip()\n",
    "            lyrics = '\\n'.join(lines[1:]).strip()\n",
    "            songs[title] = lyrics\n",
    "\n",
    "    return artist, songs\n",
    "\n",
    "\n",
    "lyrics_data = {}\n",
    "\n",
    "folder_path = \"/users/sadafvaziri/downloads/lyrics/cher\"\n",
    "\n",
    "for filename in os.listdir(folder_path):\n",
    "    if filename.endswith(\".txt\"):\n",
    "        path = os.path.join(folder_path, filename)\n",
    "        artist, songs = parse_lyrics_file(path)\n",
    "        lyrics_data[artist] = songs\n",
    "\n",
    "\n"
   ]
  },
  {
   "cell_type": "code",
   "execution_count": 12,
   "id": "125a45fc",
   "metadata": {},
   "outputs": [],
   "source": [
    "#robyn \n",
    "def parse_lyrics_file(file_path):\n",
    "    with open(file_path, 'r', encoding='utf-8') as f:\n",
    "        content = f.read().strip()\n",
    "\n",
    "    blocks = content.split('\\n\\n')\n",
    "    artist = blocks[0].strip().replace('\"', '')\n",
    "    songs = {}\n",
    "\n",
    "    for block in blocks[1:]:\n",
    "        lines = block.strip().split('\\n')\n",
    "        if len(lines) >= 2:\n",
    "            title = lines[0].strip()\n",
    "            lyrics = '\\n'.join(lines[1:]).strip()\n",
    "            songs[title] = lyrics\n",
    "\n",
    "    return artist, songs\n",
    "\n",
    "# Example for a folder full of files\n",
    "lyrics_data = {}\n",
    "\n",
    "folder_path = \"/Users/sadafvaziri/downloads/lyrics/robyn\"\n",
    "\n",
    "for filename in os.listdir(folder_path):\n",
    "    if filename.endswith(\".txt\"):\n",
    "        path = os.path.join(folder_path, filename)\n",
    "        artist, songs = parse_lyrics_file(path)\n",
    "        lyrics_data[artist] = songs\n"
   ]
  },
  {
   "cell_type": "code",
   "execution_count": null,
   "id": "debcac5a",
   "metadata": {},
   "outputs": [],
   "source": [
    "# Read in the twitter data\n",
    "#Cher\n",
    "from collections import defaultdict\n",
    "\n",
    "\n",
    "twitter_data = defaultdict(list)\n",
    "artist_name = \"cher\"  \n",
    "\n",
    "with open(\"/Users/sadafvaziri/downloads/twitter/cher_followers_data.txt\", 'r', encoding='utf-8') as f:\n",
    "    lines = f.readlines()\n",
    "\n",
    "header = lines[0].strip().split('\\t')\n",
    "description_idx = header.index(\"description\")\n",
    "\n",
    "\n",
    "for line in lines[1:]:\n",
    "    parts = line.strip().split('\\t')\n",
    "    if len(parts) > description_idx:\n",
    "        desc = parts[description_idx].strip()\n",
    "        if desc:  # skip empty descriptions\n",
    "            twitter_data[artist_name].append(desc)\n",
    "\n"
   ]
  },
  {
   "cell_type": "code",
   "execution_count": 15,
   "id": "901dc070",
   "metadata": {},
   "outputs": [],
   "source": [
    "#Robyn\n",
    "twitter_data = defaultdict(list)\n",
    "artist_name = \"Robyn\"  \n",
    "\n",
    "with open(\"/Users/sadafvaziri/downloads/twitter/robynkonichiwa_followers_data.txt\", 'r', encoding='utf-8') as f:\n",
    "    lines = f.readlines()\n",
    "\n",
    "header = lines[0].strip().split('\\t')\n",
    "description_idx = header.index(\"description\")\n",
    "\n",
    "\n",
    "for line in lines[1:]:\n",
    "    parts = line.strip().split('\\t')\n",
    "    if len(parts) > description_idx:\n",
    "        desc = parts[description_idx].strip()\n",
    "        if desc:  # skip empty descriptions\n",
    "            twitter_data[artist_name].append(desc)"
   ]
  },
  {
   "cell_type": "markdown",
   "id": "6a5f3b12",
   "metadata": {},
   "source": [
    "## Data Cleaning\n",
    "\n",
    "Now clean and tokenize your data. Remove punctuation chacters (available in the `punctuation` object in the `string` library), split on whitespace, fold to lowercase, and remove stopwords. Store your cleaned data, which must be accessible as an interable for `descriptive_stats`, in new objects or in new columns in your data frame. \n",
    "\n"
   ]
  },
  {
   "cell_type": "code",
   "execution_count": null,
   "id": "71c73d86",
   "metadata": {},
   "outputs": [],
   "source": [
    "punctuation = set(punctuation) # speeds up comparison"
   ]
  },
  {
   "cell_type": "code",
   "execution_count": null,
   "id": "b327033a",
   "metadata": {},
   "outputs": [
    {
     "name": "stderr",
     "output_type": "stream",
     "text": [
      "[nltk_data] Downloading package stopwords to\n",
      "[nltk_data]     /Users/sadafvaziri/nltk_data...\n",
      "[nltk_data]   Package stopwords is already up-to-date!\n"
     ]
    }
   ],
   "source": [
    "# create your clean twitter data here\n",
    "#Robyn\n",
    "import string\n",
    "from nltk.corpus import stopwords\n",
    "import nltk\n",
    "\n",
    "nltk.download('stopwords')\n",
    "\n",
    "# Setup\n",
    "stop_words = set(stopwords.words('english'))\n",
    "punctuation = set(string.punctuation)\n",
    "\n",
    "# Clean and tokenize\n",
    "cleaned_robyn_descriptions = []\n",
    "\n",
    "for desc in twitter_data[\"Robyn\"]:\n",
    "    # Lowercase\n",
    "    desc = desc.lower()\n",
    "    \n",
    "    # Remove punctuation\n",
    "    desc = ''.join(char for char in desc if char not in punctuation)\n",
    "    \n",
    "    # Tokenize (split by whitespace)\n",
    "    tokens = desc.split()\n",
    "    \n",
    "    # Remove stopwords\n",
    "    tokens = [word for word in tokens if word not in stop_words]\n",
    "    \n",
    "    # Save cleaned token list\n",
    "    cleaned_robyn_descriptions.append(tokens)\n"
   ]
  },
  {
   "cell_type": "code",
   "execution_count": null,
   "id": "2cc03ac1",
   "metadata": {},
   "outputs": [
    {
     "name": "stderr",
     "output_type": "stream",
     "text": [
      "[nltk_data] Downloading package stopwords to\n",
      "[nltk_data]     /Users/sadafvaziri/nltk_data...\n",
      "[nltk_data]   Package stopwords is already up-to-date!\n"
     ]
    }
   ],
   "source": [
    "#Cher\n",
    "import string\n",
    "from nltk.corpus import stopwords\n",
    "import nltk\n",
    "\n",
    "\n",
    "# Setup\n",
    "stop_words = set(stopwords.words('english'))\n",
    "punctuation = set(string.punctuation)\n",
    "\n",
    "# Clean and tokenize\n",
    "cleaned_cher_descriptions = []\n",
    "\n",
    "for desc in twitter_data[\"cher\"]:\n",
    "    # 1. Lowercase\n",
    "    desc = desc.lower()\n",
    "    \n",
    "    # 2. Remove punctuation\n",
    "    desc = ''.join(char for char in desc if char not in punctuation)\n",
    "    \n",
    "    # 3. Tokenize (split on whitespace)\n",
    "    tokens = desc.split()\n",
    "    \n",
    "    # 4. Remove stopwords\n",
    "    tokens = [word for word in tokens if word not in stop_words]\n",
    "    \n",
    "    # 5. Append cleaned tokens\n",
    "    cleaned_cher_descriptions.append(tokens)\n"
   ]
  },
  {
   "cell_type": "code",
   "execution_count": 24,
   "id": "e0f22e10",
   "metadata": {},
   "outputs": [],
   "source": [
    "# create your clean lyrics data here\n",
    "#Robyn\n",
    "flattened_lyrics_data = {\"Robyn\": {}}\n",
    "\n",
    "# Flatten the structure\n",
    "for filename in lyrics_data:\n",
    "    for song_title, lyrics in lyrics_data[filename].items():\n",
    "        # If lyrics is a dict, flatten it\n",
    "        if isinstance(lyrics, dict):\n",
    "            lyrics = '\\n'.join(lyrics.values())\n",
    "        flattened_lyrics_data[\"Robyn\"][song_title] = lyrics\n",
    "\n",
    "# Replace the original data with cleaned structure\n",
    "lyrics_data = flattened_lyrics_data\n",
    "\n",
    "rows = []\n",
    "\n",
    "stop_words = set(stopwords.words('english'))\n",
    "punctuation = set(string.punctuation)\n",
    "\n",
    "for song_title, lyrics in lyrics_data[\"Robyn\"].items():\n",
    "    lyrics_clean = lyrics.lower()\n",
    "    lyrics_clean = ''.join(char for char in lyrics_clean if char not in punctuation)\n",
    "    tokens = lyrics_clean.split()\n",
    "    tokens = [word for word in tokens if word not in stop_words]\n",
    "\n",
    "    rows.append({\n",
    "        \"artist\": \"Robyn\",\n",
    "        \"song\": song_title,\n",
    "        \"original_lyrics\": lyrics,\n",
    "        \"tokens\": tokens\n",
    "    })\n",
    "\n",
    "robyn_df = pd.DataFrame(rows)\n",
    "\n",
    "\n",
    "\n"
   ]
  },
  {
   "cell_type": "code",
   "execution_count": 26,
   "id": "938e5514",
   "metadata": {},
   "outputs": [],
   "source": [
    "#Cher\n",
    "flattened_lyrics_data = {\"Cher\": {}}\n",
    "\n",
    "# Flatten Cher's nested structure (if needed)\n",
    "for filename in lyrics_data:\n",
    "    for song_title, lyrics in lyrics_data[filename].items():\n",
    "        if isinstance(lyrics, dict):\n",
    "            lyrics = '\\n'.join(lyrics.values())\n",
    "        flattened_lyrics_data[\"Cher\"][song_title] = lyrics\n",
    "\n",
    "# Replace the original with cleaned structure\n",
    "lyrics_data = flattened_lyrics_data\n",
    "\n",
    "\n",
    "\n",
    "\n",
    "for song_title, lyrics in lyrics_data[\"Cher\"].items():\n",
    "    # Step 1: lowercase\n",
    "    lyrics_clean = lyrics.lower()\n",
    "\n",
    "    # Step 2: remove punctuation\n",
    "    lyrics_clean = ''.join(char for char in lyrics_clean if char not in punctuation)\n",
    "\n",
    "    # Step 3: tokenize\n",
    "    tokens = lyrics_clean.split()\n",
    "\n",
    "    # Step 4: remove stopwords\n",
    "    tokens = [word for word in tokens if word not in stop_words]\n",
    "\n",
    "    # Step 5: store the row\n",
    "    rows.append({\n",
    "        \"artist\": \"Cher\",\n",
    "        \"song\": song_title,\n",
    "        \"original_lyrics\": lyrics,\n",
    "        \"tokens\": tokens\n",
    "    })\n",
    "\n",
    "cher_df = pd.DataFrame(rows)\n",
    "\n"
   ]
  },
  {
   "cell_type": "markdown",
   "id": "f2dd0179",
   "metadata": {},
   "source": [
    "## Basic Descriptive Statistics\n",
    "\n",
    "Call your `descriptive_stats` function on both your lyrics data and your twitter data and for both artists (four total calls). "
   ]
  },
  {
   "cell_type": "code",
   "execution_count": 35,
   "id": "0864627f",
   "metadata": {},
   "outputs": [
    {
     "name": "stdout",
     "output_type": "stream",
     "text": [
      "Loaded 2001090 descriptions.\n"
     ]
    }
   ],
   "source": [
    "from collections import defaultdict\n",
    "import string\n",
    "from nltk.corpus import stopwords\n",
    "\n",
    "# Setup\n",
    "stop_words = set(stopwords.words('english'))\n",
    "punctuation = set(string.punctuation)\n",
    "\n",
    "# Step 1: Load from file\n",
    "twitter_data = defaultdict(list)\n",
    "artist_name = \"cher\"\n",
    "\n",
    "with open(\"/Users/sadafvaziri/downloads/twitter/cher_followers_data.txt\", 'r', encoding='utf-8') as f:\n",
    "    lines = f.readlines()\n",
    "\n",
    "header = lines[0].strip().split('\\t')\n",
    "description_idx = header.index(\"description\")\n",
    "\n",
    "for line in lines[1:]:\n",
    "    parts = line.strip().split('\\t')\n",
    "    if len(parts) > description_idx:\n",
    "        desc = parts[description_idx].strip()\n",
    "        if desc:\n",
    "            twitter_data[artist_name].append(desc)\n",
    "\n",
    "print(f\"Loaded {len(twitter_data['cher'])} descriptions.\")  # should now show > 0\n",
    "\n",
    "\n",
    "cleaned_cher_descriptions = []\n",
    "\n",
    "for desc in twitter_data[\"cher\"]:\n",
    "    desc = desc.lower()\n",
    "    desc = ''.join(char for char in desc if char not in punctuation)\n",
    "    tokens = desc.split()\n",
    "    tokens = [word for word in tokens if word not in stop_words]\n",
    "    cleaned_cher_descriptions.append(tokens)\n",
    "\n"
   ]
  },
  {
   "cell_type": "code",
   "execution_count": 36,
   "id": "f0bbedd9",
   "metadata": {},
   "outputs": [
    {
     "name": "stdout",
     "output_type": "stream",
     "text": [
      "\n",
      "Cher Twitter Stats:\n",
      "There are 15670504 tokens in the data.\n",
      "There are 1517718 unique tokens in the data.\n",
      "There are 92951718 characters in the data.\n",
      "The lexical diversity is 0.097 in the data.\n",
      "The 5 most common tokens:\n",
      "  love: 214576\n",
      "  im: 139098\n",
      "  life: 122980\n",
      "  music: 88177\n",
      "  de: 72974\n"
     ]
    },
    {
     "data": {
      "text/plain": [
       "[15670504, 1517718, 0.09685189448916257, 92951718]"
      ]
     },
     "execution_count": 36,
     "metadata": {},
     "output_type": "execute_result"
    }
   ],
   "source": [
    "# calls to descriptive_stats here\n",
    "#Twitter Cher\n",
    "cher_twitter_tokens = [token for row in cleaned_cher_descriptions for token in row]\n",
    "print(\"\\nCher Twitter Stats:\")\n",
    "descriptive_stats(cher_twitter_tokens)\n"
   ]
  },
  {
   "cell_type": "code",
   "execution_count": 30,
   "id": "7621ec8d",
   "metadata": {},
   "outputs": [
    {
     "name": "stdout",
     "output_type": "stream",
     "text": [
      "\n",
      "Robyn Twitter Stats:\n",
      "There are 1495526 tokens in the data.\n",
      "There are 252736 unique tokens in the data.\n",
      "There are 9127817 characters in the data.\n",
      "The lexical diversity is 0.169 in the data.\n",
      "The 5 most common tokens:\n",
      "  music: 15147\n",
      "  love: 11677\n",
      "  im: 9051\n",
      "  och: 7922\n",
      "  life: 7383\n"
     ]
    },
    {
     "data": {
      "text/plain": [
       "[1495526, 252736, 0.16899472158959455, 9127817]"
      ]
     },
     "execution_count": 30,
     "metadata": {},
     "output_type": "execute_result"
    }
   ],
   "source": [
    "#Twitter Robyn\n",
    "\n",
    "robyn_twitter_tokens = [token for row in cleaned_robyn_descriptions for token in row]\n",
    "print(\"\\nRobyn Twitter Stats:\")\n",
    "descriptive_stats(robyn_twitter_tokens)\n"
   ]
  },
  {
   "cell_type": "code",
   "execution_count": 27,
   "id": "59cea205",
   "metadata": {},
   "outputs": [
    {
     "name": "stdout",
     "output_type": "stream",
     "text": [
      "Cher Lyrics Stats:\n",
      "There are 15498 tokens in the data.\n",
      "There are 1855 unique tokens in the data.\n",
      "There are 75060 characters in the data.\n",
      "The lexical diversity is 0.120 in the data.\n",
      "The 5 most common tokens:\n",
      "  know: 292\n",
      "  love: 282\n",
      "  im: 282\n",
      "  dont: 274\n",
      "  like: 258\n"
     ]
    },
    {
     "data": {
      "text/plain": [
       "[15498, 1855, 0.11969286359530262, 75060]"
      ]
     },
     "execution_count": 27,
     "metadata": {},
     "output_type": "execute_result"
    }
   ],
   "source": [
    "#Lyrics Cher\n",
    "\n",
    "cher_lyrics_tokens = [token for row in cher_df[\"tokens\"] for token in row]\n",
    "print(\"Cher Lyrics Stats:\")\n",
    "descriptive_stats(cher_lyrics_tokens)\n"
   ]
  },
  {
   "cell_type": "code",
   "execution_count": 29,
   "id": "34957a6b",
   "metadata": {},
   "outputs": [
    {
     "name": "stdout",
     "output_type": "stream",
     "text": [
      "\n",
      "Robyn Lyrics Stats:\n",
      "There are 7749 tokens in the data.\n",
      "There are 1855 unique tokens in the data.\n",
      "There are 37530 characters in the data.\n",
      "The lexical diversity is 0.239 in the data.\n",
      "The 5 most common tokens:\n",
      "  know: 146\n",
      "  love: 141\n",
      "  im: 141\n",
      "  dont: 137\n",
      "  like: 129\n"
     ]
    },
    {
     "data": {
      "text/plain": [
       "[7749, 1855, 0.23938572719060525, 37530]"
      ]
     },
     "execution_count": 29,
     "metadata": {},
     "output_type": "execute_result"
    }
   ],
   "source": [
    "#Lyrics Robyn\n",
    "\n",
    "robyn_lyrics_tokens = [token for row in robyn_df[\"tokens\"] for token in row]\n",
    "print(\"\\nRobyn Lyrics Stats:\")\n",
    "descriptive_stats(robyn_lyrics_tokens)\n"
   ]
  },
  {
   "cell_type": "markdown",
   "id": "46294409",
   "metadata": {},
   "source": [
    "Q: How do you think the \"top 5 words\" would be different if we left stopwords in the data? \n",
    "\n",
    "A: With stopwords, the most common words would be words like \"the\", \"I\", or \"and\", which are more common but less meaningful.\n",
    "\n",
    "---\n",
    "\n",
    "Q: What were your prior beliefs about the lexical diversity between the artists? Does the difference (or lack thereof) in lexical diversity between the artists conform to your prior beliefs? \n",
    "\n",
    "A: The results partially confirmed these beliefs. Robyn’s lyrics did show higher lexical diversity (0.239 vs. Cher’s 0.120), suggesting she uses a broader vocabulary in her songs. However, Robyn’s Twitter followers also had significantly more diverse language, which may reflect a larger, more engaged or expressive fanbase online.\n"
   ]
  },
  {
   "cell_type": "markdown",
   "id": "4d4e1ac1",
   "metadata": {},
   "source": [
    "\n",
    "## Specialty Statistics\n",
    "\n",
    "The descriptive statistics we have calculated are quite generic. You will now calculate a handful of statistics tailored to these data.\n",
    "\n",
    "1. Ten most common emojis by artist in the twitter descriptions.\n",
    "1. Ten most common hashtags by artist in the twitter descriptions.\n",
    "1. Five most common words in song titles by artist. \n",
    "1. For each artist, a histogram of song lengths (in terms of number of tokens) \n",
    "\n",
    "We can use the `emoji` library to help us identify emojis and you have been given a function to help you.\n"
   ]
  },
  {
   "cell_type": "code",
   "execution_count": 6,
   "id": "753a5a3e",
   "metadata": {},
   "outputs": [],
   "source": [
    "assert(emoji.is_emoji(\"❤️\"))\n",
    "assert(not emoji.is_emoji(\":-)\"))"
   ]
  },
  {
   "cell_type": "markdown",
   "id": "986fc4c0",
   "metadata": {},
   "source": [
    "### Emojis 😁\n",
    "\n",
    "What are the ten most common emojis by artist in the twitter descriptions? \n"
   ]
  },
  {
   "cell_type": "code",
   "execution_count": 37,
   "id": "269cd433",
   "metadata": {},
   "outputs": [
    {
     "name": "stdout",
     "output_type": "stream",
     "text": [
      "Top 10 Robyn emojis:\n",
      "\n",
      "Top 10 Cher emojis:\n",
      "❤: 79223\n",
      "🌈: 47549\n",
      "♥: 33978\n",
      "🏳: 33412\n",
      "✨: 29468\n",
      "💙: 21379\n",
      "🏻: 20930\n",
      "🌊: 20223\n",
      "✌: 16773\n",
      "💜: 16550\n"
     ]
    }
   ],
   "source": [
    "# Your code here\n",
    "import emoji\n",
    "from collections import Counter\n",
    "\n",
    "def extract_emojis(text):\n",
    "    return [char for char in text if emoji.is_emoji(char)]\n",
    "\n",
    "# Robyn\n",
    "robyn_emojis = []\n",
    "\n",
    "for desc in twitter_data[\"robyn\"]:  # adjust if your key is capitalized\n",
    "    robyn_emojis.extend(extract_emojis(desc))\n",
    "\n",
    "robyn_top_emojis = Counter(robyn_emojis).most_common(10)\n",
    "\n",
    "# Cher\n",
    "cher_emojis = []\n",
    "\n",
    "for desc in twitter_data[\"cher\"]:\n",
    "    cher_emojis.extend(extract_emojis(desc))\n",
    "\n",
    "cher_top_emojis = Counter(cher_emojis).most_common(10)\n",
    "\n",
    "# Display results\n",
    "print(\"Top 10 Robyn emojis:\")\n",
    "for e, count in robyn_top_emojis:\n",
    "    print(f\"{e}: {count}\")\n",
    "\n",
    "print(\"\\nTop 10 Cher emojis:\")\n",
    "for e, count in cher_top_emojis:\n",
    "    print(f\"{e}: {count}\")\n"
   ]
  },
  {
   "cell_type": "markdown",
   "id": "bab9b770",
   "metadata": {},
   "source": [
    "### Hashtags\n",
    "\n",
    "What are the ten most common hashtags by artist in the twitter descriptions? \n"
   ]
  },
  {
   "cell_type": "code",
   "execution_count": 38,
   "id": "07c396f1",
   "metadata": {},
   "outputs": [
    {
     "name": "stdout",
     "output_type": "stream",
     "text": [
      "Top 10 Robyn hashtags:\n",
      "\n",
      "Top 10 Cher hashtags:\n",
      "#resist: 9558\n",
      "#blm: 8753\n",
      "#blacklivesmatter: 7432\n",
      "#fbr: 2922\n",
      "#theresistance: 2883\n",
      "#resistance: 2405\n",
      "#1: 2226\n",
      "#: 1965\n",
      "#voteblue: 1897\n",
      "#lgbtq: 1457\n"
     ]
    }
   ],
   "source": [
    "# Your code here\n",
    "from collections import Counter\n",
    "\n",
    "def extract_hashtags(text):\n",
    "    return [word for word in text.split() if word.startswith(\"#\")]\n",
    "\n",
    "# Robyn hashtags\n",
    "robyn_hashtags = []\n",
    "for desc in twitter_data[\"robyn\"]:  # adjust key as needed\n",
    "    robyn_hashtags.extend(extract_hashtags(desc.lower()))\n",
    "\n",
    "robyn_top_hashtags = Counter(robyn_hashtags).most_common(10)\n",
    "\n",
    "# Cher hashtags\n",
    "cher_hashtags = []\n",
    "for desc in twitter_data[\"cher\"]:\n",
    "    cher_hashtags.extend(extract_hashtags(desc.lower()))\n",
    "\n",
    "cher_top_hashtags = Counter(cher_hashtags).most_common(10)\n",
    "\n",
    "# Display results\n",
    "print(\"Top 10 Robyn hashtags:\")\n",
    "for tag, count in robyn_top_hashtags:\n",
    "    print(f\"{tag}: {count}\")\n",
    "\n",
    "print(\"\\nTop 10 Cher hashtags:\")\n",
    "for tag, count in cher_top_hashtags:\n",
    "    print(f\"{tag}: {count}\")\n"
   ]
  },
  {
   "cell_type": "markdown",
   "id": "d10f21d5",
   "metadata": {},
   "source": [
    "### Song Titles\n",
    "\n",
    "What are the five most common words in song titles by artist? The song titles should be on the first line of the lyrics pages, so if you have kept the raw file contents around, you will not need to re-read the data.\n"
   ]
  },
  {
   "cell_type": "code",
   "execution_count": 54,
   "id": "bb69b36b",
   "metadata": {},
   "outputs": [
    {
     "name": "stdout",
     "output_type": "stream",
     "text": [
      "Robyn titles: ['It is really very simple', 'Mmm, hmm', 'One time for the records and the hits', 'One time for the sorry and safe', 'Yeah, bow down all you wicked and the vain']\n",
      "Cher titles: [\"I'll send away all my false pride\", \"All lovers of the past, I'll leave behind\", 'The promise I made most faithfully', \"Yes I'll be as true as true can be\", 'Live a life no others have ever known']\n"
     ]
    }
   ],
   "source": [
    "def parse_lyrics_file(file_path):\n",
    "    with open(file_path, 'r', encoding='utf-8') as f:\n",
    "        content = f.read().strip()\n",
    "\n",
    "    blocks = content.split('\\n\\n')\n",
    "    artist = blocks[0].strip().replace('\"', '')\n",
    "    songs = {}\n",
    "\n",
    "    for block in blocks[1:]:\n",
    "        lines = block.strip().split('\\n')\n",
    "        if len(lines) >= 2:\n",
    "            title = lines[0].strip()\n",
    "            lyrics = '\\n'.join(lines[1:]).strip()\n",
    "            songs[title] = lyrics\n",
    "\n",
    "    return artist, songs\n",
    "\n",
    "# Rebuild Robyn lyrics properly\n",
    "robyn_lyrics_data = {}\n",
    "folder_path = \"/Users/sadafvaziri/downloads/lyrics/robyn\"\n",
    "\n",
    "for filename in os.listdir(folder_path):\n",
    "    if filename.endswith(\".txt\"):\n",
    "        path = os.path.join(folder_path, filename)\n",
    "        artist, songs = parse_lyrics_file(path)\n",
    "        robyn_lyrics_data.update(songs)\n",
    "\n",
    "\n",
    "\n",
    "cher_lyrics_data = {}\n",
    "folder_path = \"/Users/sadafvaziri/downloads/lyrics/cher\"\n",
    "\n",
    "for filename in os.listdir(folder_path):\n",
    "    if filename.endswith(\".txt\"):\n",
    "        path = os.path.join(folder_path, filename)\n",
    "        artist, songs = parse_lyrics_file(path)\n",
    "        cher_lyrics_data.update(songs)\n",
    "\n",
    "lyrics_data = {\n",
    "    \"Robyn\": robyn_lyrics_data,\n",
    "    \"Cher\": cher_lyrics_data\n",
    "}\n",
    "\n",
    "print(\"Robyn titles:\", list(lyrics_data[\"Robyn\"].keys())[:5])\n",
    "print(\"Cher titles:\", list(lyrics_data[\"Cher\"].keys())[:5])\n"
   ]
  },
  {
   "cell_type": "code",
   "execution_count": 55,
   "id": "92065efb",
   "metadata": {},
   "outputs": [
    {
     "name": "stdout",
     "output_type": "stream",
     "text": [
      "\n",
      "Top 5 Cher song title words:\n",
      "i: 392\n",
      "you: 347\n",
      "the: 300\n",
      "a: 209\n",
      "to: 179\n",
      "\n",
      "Top 5 Robyn song title words:\n",
      "you: 160\n",
      "i: 119\n",
      "the: 95\n",
      "to: 64\n",
      "me: 62\n"
     ]
    }
   ],
   "source": [
    "from collections import Counter\n",
    "import string\n",
    "\n",
    "def clean_title(title):\n",
    "    title = title.lower()\n",
    "    return ''.join(char for char in title if char not in string.punctuation).split()\n",
    "\n",
    "for artist in [\"Cher\", \"Robyn\"]:\n",
    "    title_words = []\n",
    "    for title in lyrics_data[artist].keys():\n",
    "        title_words.extend(clean_title(title))\n",
    "\n",
    "    top_words = Counter(title_words).most_common(5)\n",
    "\n",
    "    print(f\"\\nTop 5 {artist} song title words:\")\n",
    "    for word, count in top_words:\n",
    "        print(f\"{word}: {count}\")\n",
    "\n"
   ]
  },
  {
   "cell_type": "markdown",
   "id": "5dd4fd71",
   "metadata": {},
   "source": [
    "### Song Lengths\n",
    "\n",
    "For each artist, a histogram of song lengths (in terms of number of tokens). If you put the song lengths in a data frame with an artist column, matplotlib will make the plotting quite easy. An example is given to help you out. \n"
   ]
  },
  {
   "cell_type": "code",
   "execution_count": 56,
   "id": "805a1e52",
   "metadata": {},
   "outputs": [
    {
     "data": {
      "text/plain": [
       "artist\n",
       "Artist 1    Axes(0.125,0.11;0.775x0.77)\n",
       "Artist 2    Axes(0.125,0.11;0.775x0.77)\n",
       "Name: length, dtype: object"
      ]
     },
     "execution_count": 56,
     "metadata": {},
     "output_type": "execute_result"
    },
    {
     "data": {
      "image/png": "[encoded data removed]",
      "text/plain": [
       "<Figure size 640x480 with 1 Axes>"
      ]
     },
     "metadata": {},
     "output_type": "display_data"
    }
   ],
   "source": [
    "num_replicates = 1000\n",
    "\n",
    "df = pd.DataFrame({\n",
    "    \"artist\" : ['Artist 1'] * num_replicates + ['Artist 2']*num_replicates,\n",
    "    \"length\" : np.concatenate((np.random.poisson(125,num_replicates),np.random.poisson(150,num_replicates)))\n",
    "})\n",
    "\n",
    "df.groupby('artist')['length'].plot(kind=\"hist\",density=True,alpha=0.5,legend=True)"
   ]
  },
  {
   "cell_type": "markdown",
   "id": "8fde9ebb",
   "metadata": {},
   "source": [
    "Since the lyrics may be stored with carriage returns or tabs, it may be useful to have a function that can collapse whitespace, using regular expressions, and be used for splitting. \n",
    "\n",
    "Q: What does the regular expression `'\\s+'` match on? \n",
    "\n",
    "A: The regular expression '\\s+' matches one or more whitespace characters like spaces, tabs, or newlines. It's useful for cleaning up messy text by collapsing all kinds of spacing into one, so we can split the text into words more easily.\n"
   ]
  },
  {
   "cell_type": "code",
   "execution_count": 57,
   "id": "f0e34516",
   "metadata": {},
   "outputs": [],
   "source": [
    "collapse_whitespace = re.compile(r'\\s+')\n",
    "\n",
    "def tokenize_lyrics(lyric) : \n",
    "    \"\"\"strip and split on whitespace\"\"\"\n",
    "    return([item.lower() for item in collapse_whitespace.split(lyric)])"
   ]
  },
  {
   "cell_type": "code",
   "execution_count": 58,
   "id": "2294c440",
   "metadata": {},
   "outputs": [
    {
     "data": {
      "image/png": "[encoded data removed]",
      "text/plain": [
       "<Figure size 1000x500 with 1 Axes>"
      ]
     },
     "metadata": {},
     "output_type": "display_data"
    }
   ],
   "source": [
    "# Your lyric length comparison chart here. \n",
    "import matplotlib.pyplot as plt\n",
    "\n",
    "collapse_whitespace = re.compile(r'\\s+')\n",
    "\n",
    "def tokenize_lyrics(lyric): \n",
    "    \"\"\"strip and split on whitespace\"\"\"\n",
    "    return [item.lower() for item in collapse_whitespace.split(lyric.strip()) if item]\n",
    "\n",
    "# Gather song lengths\n",
    "data = []\n",
    "\n",
    "for artist in [\"Cher\", \"Robyn\"]:\n",
    "    for title, lyrics in lyrics_data[artist].items():\n",
    "        tokens = tokenize_lyrics(lyrics)\n",
    "        data.append({\n",
    "            \"artist\": artist,\n",
    "            \"title\": title,\n",
    "            \"num_tokens\": len(tokens)\n",
    "        })\n",
    "\n",
    "# Sort for visual clarity (optional)\n",
    "data = sorted(data, key=lambda x: x[\"num_tokens\"], reverse=True)\n",
    "\n",
    "# Plot\n",
    "cher_lengths = [d[\"num_tokens\"] for d in data if d[\"artist\"] == \"Cher\"]\n",
    "robyn_lengths = [d[\"num_tokens\"] for d in data if d[\"artist\"] == \"Robyn\"]\n",
    "\n",
    "plt.figure(figsize=(10, 5))\n",
    "plt.hist([cher_lengths, robyn_lengths], bins=20, label=[\"Cher\", \"Robyn\"], color=[\"purple\", \"hotpink\"], alpha=0.7)\n",
    "plt.title(\"Lyric Length Comparison (by number of tokens)\")\n",
    "plt.xlabel(\"Number of Tokens\")\n",
    "plt.ylabel(\"Number of Songs\")\n",
    "plt.legend()\n",
    "plt.tight_layout()\n",
    "plt.show()\n"
   ]
  }
 ],
 "metadata": {
  "kernelspec": {
   "display_name": "base",
   "language": "python",
   "name": "python3"
  },
  "language_info": {
   "codemirror_mode": {
    "name": "ipython",
    "version": 3
   },
   "file_extension": ".py",
   "mimetype": "text/x-python",
   "name": "python",
   "nbconvert_exporter": "python",
   "pygments_lexer": "ipython3",
   "version": "3.11.5"
  }
 },
 "nbformat": 4,
 "nbformat_minor": 5
}
