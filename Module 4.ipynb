{
 "cells": [
  {
   "cell_type": "markdown",
   "metadata": {},
   "source": [
    "## Naive Bayes on Political Text\n",
    "\n",
    "In this notebook we use Naive Bayes to explore and classify political data. See the `README.md` for full details."
   ]
  },
  {
   "cell_type": "code",
   "execution_count": 1,
   "metadata": {},
   "outputs": [],
   "source": [
    "import sqlite3\n",
    "import nltk\n",
    "import random\n",
    "import numpy as np\n",
    "from collections import Counter, defaultdict\n",
    "\n",
    "# Feel free to include your text patterns functions\n",
    "#from text_functions_solutions import clean_tokenize, get_patterns"
   ]
  },
  {
   "cell_type": "code",
   "execution_count": 2,
   "metadata": {},
   "outputs": [],
   "source": [
    "convention_db = sqlite3.connect(\"2020_Conventions.db\")\n",
    "convention_cur = convention_db.cursor()"
   ]
  },
  {
   "cell_type": "markdown",
   "metadata": {},
   "source": [
    "### Part 1: Exploratory Naive Bayes\n",
    "\n",
    "We'll first build a NB model on the convention data itself, as a way to understand what words distinguish between the two parties. This is analogous to what we did in the \"Comparing Groups\" class work. First, pull in the text \n",
    "for each party and prepare it for use in Naive Bayes.  "
   ]
  },
  {
   "cell_type": "code",
   "execution_count": 3,
   "metadata": {},
   "outputs": [],
   "source": [
    "convention_data = []\n",
    "\n",
    "# fill this list up with items that are themselves lists. The \n",
    "# first element in the sublist should be the cleaned and tokenized\n",
    "# text in a single string. The second element should be the party. \n",
    "\n",
    "query_results = convention_cur.execute(\n",
    "                            '''\n",
    "                            -- your query here\n",
    "                            ''')\n",
    "\n",
    "for row in query_results :\n",
    "    # store the results in convention_data\n",
    "    pass # remove this\n",
    "    \n"
   ]
  },
  {
   "cell_type": "code",
   "execution_count": 6,
   "metadata": {},
   "outputs": [
    {
     "name": "stdout",
     "output_type": "stream",
     "text": [
      "Number of rows: 2541\n"
     ]
    }
   ],
   "source": [
    "query_results = convention_cur.execute(\"SELECT text, party FROM conventions\")\n",
    "\n",
    "rows = query_results.fetchall()\n",
    "print(f\"Number of rows: {len(rows)}\")\n",
    "\n",
    "convention_data = []\n",
    "\n",
    "for row in rows:\n",
    "    text = row[0]\n",
    "    party = row[1]\n",
    "    if text and party:  # Avoid None entries\n",
    "        convention_data.append([text, party])\n",
    "\n"
   ]
  },
  {
   "cell_type": "code",
   "execution_count": 7,
   "metadata": {},
   "outputs": [
    {
     "name": "stdout",
     "output_type": "stream",
     "text": [
      "[['Oh, some kind of weird foreign name.', 'Democratic'], ['The strongest shoulder you can ever lean on.', 'Democratic'], ['The constitution and laws.', 'Republican'], ['Joe Biden wants to build an economy far better suited to our changing world. Better for young people. Better for families working and raising their kids. Better for people who lost jobs and need new ones. Better for farmers tired of being collateral damage in trade wars. Better for workers caring for the sick, elderly, and people with disabilities. Better because of a living wage and access to affordable higher education and healthcare, including prescription drugs, and to childcare, a secure retirement, and for the first time, paid family and medical leave.', 'Democratic'], ['This time.', 'Democratic'], ['Tonight, I’m asking you to believe in Joe and Kamala’s ability to lead this country out of these dark times and build it back back better.', 'Democratic'], ['My dad thought he would protect military families, so we voted for you in 2016, Mr. President. He says he won’t vote for you again after what you did to our family.', 'Democratic'], ['What does jump in mean?', 'Democratic'], ['That I will support and defend.', 'Republican'], ['Tonight we’ve heard from the people who make.', 'Democratic']]\n"
     ]
    }
   ],
   "source": [
    "import random\n",
    "\n",
    "if len(convention_data) >= 10:\n",
    "    print(random.choices(convention_data, k=10))\n",
    "else:\n",
    "    print(f\"Not enough data: only {len(convention_data)} items available.\")\n"
   ]
  },
  {
   "cell_type": "markdown",
   "metadata": {},
   "source": [
    "Let's look at some random entries and see if they look right. "
   ]
  },
  {
   "cell_type": "code",
   "execution_count": 8,
   "metadata": {},
   "outputs": [
    {
     "data": {
      "text/plain": [
       "[['It is the most pressing issue of our time and we deserve to be treated as such.',\n",
       "  'Democratic'],\n",
       " ['Then this bold man comes down the escalator in New York City. I couldn’t come out and say it right away, but deep down inside, I knew it was going to be the first Republican that I ever voted for.',\n",
       "  'Republican'],\n",
       " ['Democrats won’t let you go to work, but they’ll let you riot and Democrats won’t let you go to school, but they’ll let you go loot. President Trump has fought against each of their crazy ideas. He’s taken on the swamp, all of the swamp, the Democrats, the press, and the never Trumpers. When you take on the swamp, the swamp fights back, they tried the Russia hoax, the Mueller investigation and the fake impeachment, but in spite of this unbelievable opposition, this president has done what he said he would do. Taxes cut, regulations reduced, economy growing, lowest unemployment in 50 years, out of the Iran deal, embassy in Jerusalem, hostages home from North Korea, a new USMCA agreement, and of course he’s building the wall and rebuilding our economy as we speak.',\n",
       "  'Republican'],\n",
       " ['And now, live from Milwaukee, Mayor Tom Barrett.', 'Democratic'],\n",
       " ['You know military spouses may experience frequent moves and job changes, periods of being a single parent while their loved one is deployed, all while exhibiting pride, strength and determination and being a part of something bigger than themselves. To all of the military spouses, thank you.',\n",
       "  'Republican'],\n",
       " ['All of these decades later while he and others of his generation achieved much, we’re still fighting against police brutality and fighting for our voting rights. So we best honor him by continuing to fight the good fights that he fought by staying in good trouble.',\n",
       "  'Democratic'],\n",
       " ['Under civilian direction.', 'Republican'],\n",
       " ['Instead of protecting us, you tore our world apart. My mom is a good person and she’s not a criminal. Now, my mom is gone and she’s been taken from us for no reason at all. Every day that passes, you deport more moms and dads and take them away from kids like me.',\n",
       "  'Democratic'],\n",
       " ['One leader took decisive action to save lives, President Donald Trump. Banning travel from China and coronavirus epicenters, Biden charged xenophobia. But President Trump was right, signing the CARES Act, providing immediate relief to American families, workers and businesses. Declaring a national emergency, tapping into 42 billion in existing emergency funding. Quickly getting crucial personal protective equipment to the states. Signing the Families First Coronavirus Response Act, ensuring that American families and businesses impacted by the virus receive the strong support they need. Launching Operation Warp Speed to fast track a vaccine in record time.',\n",
       "  'Republican'],\n",
       " ['Eating it in the freezer so that my grandma doesn’t see.', 'Democratic']]"
      ]
     },
     "execution_count": 8,
     "metadata": {},
     "output_type": "execute_result"
    }
   ],
   "source": [
    "random.choices(convention_data,k=10)"
   ]
  },
  {
   "cell_type": "markdown",
   "metadata": {},
   "source": [
    "If that looks good, we now need to make our function to turn these into features. In my solution, I wanted to keep the number of features reasonable, so I only used words that occur at least `word_cutoff` times. Here's the code to test that if you want it. "
   ]
  },
  {
   "cell_type": "code",
   "execution_count": 9,
   "metadata": {},
   "outputs": [
    {
     "name": "stdout",
     "output_type": "stream",
     "text": [
      "With a word cutoff of 5, we have 2891 as features in the model.\n"
     ]
    }
   ],
   "source": [
    "word_cutoff = 5\n",
    "\n",
    "tokens = [w for t, p in convention_data for w in t.split()]\n",
    "\n",
    "word_dist = nltk.FreqDist(tokens)\n",
    "\n",
    "feature_words = set()\n",
    "\n",
    "for word, count in word_dist.items() :\n",
    "    if count > word_cutoff :\n",
    "        feature_words.add(word)\n",
    "        \n",
    "print(f\"With a word cutoff of {word_cutoff}, we have {len(feature_words)} as features in the model.\")"
   ]
  },
  {
   "cell_type": "code",
   "execution_count": 10,
   "metadata": {},
   "outputs": [],
   "source": [
    "def conv_features(text,fw) :\n",
    "    \"\"\"Given some text, this returns a dictionary holding the\n",
    "       feature words.\n",
    "       \n",
    "       Args: \n",
    "            * text: a piece of text in a continuous string. Assumes\n",
    "            text has been cleaned and case folded.\n",
    "            * fw: the *feature words* that we're considering. A word \n",
    "            in `text` must be in fw in order to be returned. This \n",
    "            prevents us from considering very rarely occurring words.\n",
    "        \n",
    "       Returns: \n",
    "            A dictionary with the words in `text` that appear in `fw`. \n",
    "            Words are only counted once. \n",
    "            If `text` were \"quick quick brown fox\" and `fw` = {'quick','fox','jumps'},\n",
    "            then this would return a dictionary of \n",
    "            {'quick' : True,\n",
    "             'fox' :    True}\n",
    "        \n",
    "    \"\"\"\n",
    "    \n",
    "    # Your code here\n",
    "    \n",
    "    ret_dict = dict()\n",
    "    \n",
    "    return(ret_dict)"
   ]
  },
  {
   "cell_type": "code",
   "execution_count": 13,
   "metadata": {},
   "outputs": [
    {
     "name": "stderr",
     "output_type": "stream",
     "text": [
      "[nltk_data] Downloading package punkt to\n",
      "[nltk_data]     /Users/sadafvaziri/nltk_data...\n",
      "[nltk_data]   Package punkt is already up-to-date!\n"
     ]
    }
   ],
   "source": [
    "from nltk import FreqDist, word_tokenize\n",
    "import nltk\n",
    "nltk.download('punkt')\n",
    "\n",
    "# Tokenize all words in the dataset\n",
    "all_words = []\n",
    "\n",
    "for text, party in convention_data:\n",
    "    tokens = word_tokenize(text.lower())\n",
    "    all_words.extend(tokens)\n",
    "\n",
    "# Get the most frequent words\n",
    "fdist = FreqDist(all_words)\n",
    "feature_words = list(fdist)[:2000]  # Or any top-N you want\n",
    "\n",
    "\n",
    "def conv_features(text, feature_words):\n",
    "    text_words = set(word_tokenize(text.lower()))\n",
    "    return {word: (word in text_words) for word in feature_words}\n",
    "\n",
    "\n",
    "feature_words = ['donald', 'president']\n",
    "\n",
    "features = conv_features(\"donald is the president\", feature_words)\n",
    "assert features == {'donald': True, 'president': True}\n",
    "\n"
   ]
  },
  {
   "cell_type": "markdown",
   "metadata": {},
   "source": [
    "Now we'll build our feature set. Out of curiosity I did a train/test split to see how accurate the classifier was, but we don't strictly need to since this analysis is exploratory. "
   ]
  },
  {
   "cell_type": "code",
   "execution_count": 14,
   "metadata": {},
   "outputs": [],
   "source": [
    "featuresets = [(conv_features(text,feature_words), party) for (text, party) in convention_data]"
   ]
  },
  {
   "cell_type": "code",
   "execution_count": 15,
   "metadata": {},
   "outputs": [],
   "source": [
    "random.seed(20220507)\n",
    "random.shuffle(featuresets)\n",
    "\n",
    "test_size = 500"
   ]
  },
  {
   "cell_type": "code",
   "execution_count": 16,
   "metadata": {},
   "outputs": [
    {
     "name": "stdout",
     "output_type": "stream",
     "text": [
      "0.61\n"
     ]
    }
   ],
   "source": [
    "test_set, train_set = featuresets[:test_size], featuresets[test_size:]\n",
    "classifier = nltk.NaiveBayesClassifier.train(train_set)\n",
    "print(nltk.classify.accuracy(classifier, test_set))"
   ]
  },
  {
   "cell_type": "code",
   "execution_count": 17,
   "metadata": {},
   "outputs": [
    {
     "name": "stdout",
     "output_type": "stream",
     "text": [
      "Most Informative Features\n",
      "                  donald = True           Republ : Democr =      2.5 : 1.0\n",
      "               president = True           Republ : Democr =      1.9 : 1.0\n",
      "               president = False          Democr : Republ =      1.3 : 1.0\n",
      "                  donald = False          Democr : Republ =      1.1 : 1.0\n"
     ]
    }
   ],
   "source": [
    "classifier.show_most_informative_features(25)"
   ]
  },
  {
   "cell_type": "markdown",
   "metadata": {},
   "source": [
    "Write a little prose here about what you see in the classifier. Anything odd or interesting?\n",
    "\n",
    "### My Observations\n",
    "\n",
    "The classifier seems to heavily rely on words like \"donald\" and \"president\" to distinguish between parties, with \"donald = True\" being the strongest indicator of a Republican. This suggests that the model is picking up on very specific, possibly overrepresented terms in the training data, which may not generalize well to real-world tweets. The accuracy of 61% also reflects that the classifier has limited predictive power and may struggle when the language is more neutral or less tied to those keywords.\n",
    "\n"
   ]
  },
  {
   "cell_type": "markdown",
   "metadata": {},
   "source": [
    "## Part 2: Classifying Congressional Tweets\n",
    "\n",
    "In this part we apply the classifer we just built to a set of tweets by people running for congress\n",
    "in 2018. These tweets are stored in the database `congressional_data.db`. That DB is funky, so I'll\n",
    "give you the query I used to pull out the tweets. Note that this DB has some big tables and \n",
    "is unindexed, so the query takes a minute or two to run on my machine."
   ]
  },
  {
   "cell_type": "code",
   "execution_count": 18,
   "metadata": {},
   "outputs": [],
   "source": [
    "cong_db = sqlite3.connect(\"congressional_data.db\")\n",
    "cong_cur = cong_db.cursor()"
   ]
  },
  {
   "cell_type": "code",
   "execution_count": 19,
   "metadata": {},
   "outputs": [],
   "source": [
    "results = cong_cur.execute(\n",
    "        '''\n",
    "           SELECT DISTINCT \n",
    "                  cd.candidate, \n",
    "                  cd.party,\n",
    "                  tw.tweet_text\n",
    "           FROM candidate_data cd \n",
    "           INNER JOIN tweets tw ON cd.twitter_handle = tw.handle \n",
    "               AND cd.candidate == tw.candidate \n",
    "               AND cd.district == tw.district\n",
    "           WHERE cd.party in ('Republican','Democratic') \n",
    "               AND tw.tweet_text NOT LIKE '%RT%'\n",
    "        ''')\n",
    "\n",
    "results = list(results) # Just to store it, since the query is time consuming"
   ]
  },
  {
   "cell_type": "code",
   "execution_count": 22,
   "metadata": {},
   "outputs": [
    {
     "name": "stdout",
     "output_type": "stream",
     "text": [
      "Total tweets loaded: 664656\n",
      "[[b'\"Brooks Joins Alabama Delegation in Voting Against Flawed Funding Bill\" http://t.co/3CwjIWYsNq', 'Republican'], [b'\"Brooks: Senate Democrats Allowing President to Give Americans\\xe2\\x80\\x99 Jobs to Illegals\" #securetheborder https://t.co/mZtEaX8xS6', 'Republican'], [b'\"NASA on the Square\" event this Sat. 11AM \\xe2\\x80\\x93 4PM. Stop by &amp; hear about the incredible work done in #AL05! @DowntownHSV http://t.co/R9zY8WMEpA', 'Republican']]\n"
     ]
    }
   ],
   "source": [
    "\n",
    "\n",
    "# Now fill up tweet_data with sublists like we did on the convention speeches.\n",
    "# Note that this may take a bit of time, since we have a lot of tweets.\n",
    "\n",
    "tweet_data = []\n",
    "\n",
    "# Each row has: candidate, party, tweet_text\n",
    "for row in results:\n",
    "    candidate = row[0]\n",
    "    party = row[1]\n",
    "    tweet = row[2]\n",
    "\n",
    "    if tweet and party:  # Make sure there's valid data\n",
    "        tweet_data.append([tweet, party])\n",
    "\n",
    "print(f\"Total tweets loaded: {len(tweet_data)}\")\n",
    "print(tweet_data[:3])  # Show first 3 entries\n",
    "\n",
    "\n"
   ]
  },
  {
   "cell_type": "markdown",
   "metadata": {},
   "source": [
    "There are a lot of tweets here. Let's take a random sample and see how our classifer does. I'm guessing it won't be too great given the performance on the convention speeches..."
   ]
  },
  {
   "cell_type": "code",
   "execution_count": 23,
   "metadata": {},
   "outputs": [],
   "source": [
    "random.seed(20201014)\n",
    "\n",
    "tweet_data_sample = random.choices(tweet_data,k=10)"
   ]
  },
  {
   "cell_type": "code",
   "execution_count": 24,
   "metadata": {},
   "outputs": [
    {
     "name": "stdout",
     "output_type": "stream",
     "text": [
      "Here's our (cleaned) tweet: b'Earlier today, I spoke on the House Floor abt protecting health care for women and praised @PPmarmonte for their work on the Central Coast. https://t.co/WqgTRzT7VV'\n",
      "Actual party is Democratic and our classifer says Gotta fill this in.\n",
      "\n",
      "Here's our (cleaned) tweet: b'Go Tribe! #RallyTogether https://t.co/0NXutFL9L5'\n",
      "Actual party is Democratic and our classifer says Gotta fill this in.\n",
      "\n",
      "Here's our (cleaned) tweet: b\"Apparently, Trump thinks it's just too easy for students overwhelmed by the crushing burden of debt to pay off student loans #TrumpBudget https://t.co/ckYQO5T0Qh\"\n",
      "Actual party is Democratic and our classifer says Gotta fill this in.\n",
      "\n",
      "Here's our (cleaned) tweet: b'We\\xe2\\x80\\x99re grateful for our first responders, our rescue personnel, our firefighters, our police, and volunteers who have been working tirelessly to keep people safe, provide much-needed help, while putting their own lives on the line.\\n\\nhttps://t.co/eZPv0vMIz3'\n",
      "Actual party is Republican and our classifer says Gotta fill this in.\n",
      "\n",
      "Here's our (cleaned) tweet: b'Let\\xe2\\x80\\x99s make it even Greater !! #KAG \\xf0\\x9f\\x87\\xba\\xf0\\x9f\\x87\\xb8 https://t.co/y9qoZD5L2z'\n",
      "Actual party is Republican and our classifer says Gotta fill this in.\n",
      "\n",
      "Here's our (cleaned) tweet: b\"We have about 1hr until the @cavs tie up the series 2-2. I'm #ALLin216 @RepBarbaraLee you scared? #roadtovictory\"\n",
      "Actual party is Democratic and our classifer says Gotta fill this in.\n",
      "\n",
      "Here's our (cleaned) tweet: b'Congrats to @belliottsd on his new gig at SD City Hall. We are glad you will continue to serve\\xe2\\x80\\xa6 https://t.co/fkvMw3cqdI'\n",
      "Actual party is Democratic and our classifer says Gotta fill this in.\n",
      "\n",
      "Here's our (cleaned) tweet: b'We are really close, we have over $3500 raised toward the match right now. Whoot!! (That\\xe2\\x80\\x99s $7000 for the non-math majors in the room \\xf0\\x9f\\x98\\x82). Help us get there https://t.co/Tu34C472sD https://t.co/QsdQkYpsmC'\n",
      "Actual party is Democratic and our classifer says Gotta fill this in.\n",
      "\n",
      "Here's our (cleaned) tweet: b'Today, the comment period for @POTUS\\xe2\\x80\\x99s plan to expand offshore drilling opened to the public. You have 60 days (until March 9) to share why you oppose the proposed program directly with the Trump Administration. Comments can be made by email or mail. https://t.co/BaaYMeJxQn'\n",
      "Actual party is Democratic and our classifer says Gotta fill this in.\n",
      "\n",
      "Here's our (cleaned) tweet: b'Celebrated @ICSEastLA\\xe2\\x80\\x99s 22 years of Eastside commitment &amp; saluted community leaders at last night\\xe2\\x80\\x99s awards dinner! https://t.co/7V7gH8giVB'\n",
      "Actual party is Democratic and our classifer says Gotta fill this in.\n",
      "\n"
     ]
    }
   ],
   "source": [
    "\n",
    "for tweet, party in tweet_data_sample :\n",
    "    estimated_party = 'Gotta fill this in'\n",
    "    # Fill in the right-hand side above with code that estimates the actual party\n",
    "    \n",
    "    print(f\"Here's our (cleaned) tweet: {tweet}\")\n",
    "    print(f\"Actual party is {party} and our classifer says {estimated_party}.\")\n",
    "    print(\"\")\n",
    "    "
   ]
  },
  {
   "cell_type": "markdown",
   "metadata": {},
   "source": [
    "Now that we've looked at it some, let's score a bunch and see how we're doing."
   ]
  },
  {
   "cell_type": "code",
   "execution_count": 25,
   "metadata": {},
   "outputs": [],
   "source": [
    "# dictionary of counts by actual party and estimated party. \n",
    "# first key is actual, second is estimated\n",
    "parties = ['Republican','Democratic']\n",
    "results = defaultdict(lambda: defaultdict(int))\n",
    "\n",
    "for p in parties :\n",
    "    for p1 in parties :\n",
    "        results[p][p1] = 0\n",
    "\n",
    "\n",
    "num_to_score = 10000\n",
    "random.shuffle(tweet_data)\n",
    "\n",
    "for idx, tp in enumerate(tweet_data) :\n",
    "    tweet, party = tp    \n",
    "    # Now do the same thing as above, but we store the results rather\n",
    "    # than printing them. \n",
    "   \n",
    "    # get the estimated party\n",
    "    estimated_party = \"Gotta fill this in\"\n",
    "    \n",
    "    results[party][estimated_party] += 1\n",
    "    \n",
    "    if idx > num_to_score : \n",
    "        break"
   ]
  },
  {
   "cell_type": "code",
   "execution_count": null,
   "metadata": {},
   "outputs": [
    {
     "name": "stderr",
     "output_type": "stream",
     "text": [
      "[nltk_data] Downloading package punkt to\n",
      "[nltk_data]     /Users/sadafvaziri/nltk_data...\n",
      "[nltk_data]   Package punkt is already up-to-date!\n"
     ]
    }
   ],
   "source": [
    "results\n",
    "\n",
    "import random\n",
    "from collections import defaultdict\n",
    "from nltk import word_tokenize, NaiveBayesClassifier\n",
    "import nltk\n",
    "nltk.download('punkt')\n",
    "\n",
    "# Decode & extract features\n",
    "def conv_features(text, feature_words):\n",
    "    if isinstance(text, bytes):\n",
    "        text = text.decode('utf-8', errors='ignore')\n",
    "    text_words = set(word_tokenize(text.lower()))\n",
    "    return {word: (word in text_words) for word in feature_words}\n",
    "\n",
    "# Step 1: Make sure feature_words are built from training data\n",
    "from nltk import FreqDist\n",
    "\n",
    "all_words = []\n",
    "for text, party in convention_data:\n",
    "    if isinstance(text, bytes):\n",
    "        text = text.decode('utf-8', errors='ignore')\n",
    "    all_words.extend(word_tokenize(text.lower()))\n",
    "\n",
    "fdist = FreqDist(all_words)\n",
    "feature_words = list(fdist)[:2000]\n",
    "\n",
    "# Step 2: Build training featuresets\n",
    "featuresets = [(conv_features(text, feature_words), party) for text, party in convention_data]\n",
    "\n",
    "# Step 3: Train the classifier\n",
    "train_set = featuresets\n",
    "classifier = NaiveBayesClassifier.train(train_set)\n",
    "\n",
    "# Step 4: Score tweets\n",
    "parties = ['Republican', 'Democratic']\n",
    "results = defaultdict(lambda: defaultdict(int))\n",
    "\n",
    "for p in parties:\n",
    "    for p1 in parties:\n",
    "        results[p][p1] = 0\n",
    "\n",
    "\n",
    "random.shuffle(tweet_data)\n",
    "\n",
    "num_to_score = 10000\n",
    "\n",
    "for idx, (tweet, party) in enumerate(tweet_data):\n",
    "    features = conv_features(tweet, feature_words)\n",
    "    estimated_party = classifier.classify(features)\n",
    "    results[party][estimated_party] += 1\n",
    "    if idx > num_to_score:\n",
    "        break\n",
    "\n"
   ]
  },
  {
   "cell_type": "code",
   "execution_count": 28,
   "metadata": {},
   "outputs": [
    {
     "data": {
      "text/html": [
       "<div>\n",
       "<style scoped>\n",
       "    .dataframe tbody tr th:only-of-type {\n",
       "        vertical-align: middle;\n",
       "    }\n",
       "\n",
       "    .dataframe tbody tr th {\n",
       "        vertical-align: top;\n",
       "    }\n",
       "\n",
       "    .dataframe thead th {\n",
       "        text-align: right;\n",
       "    }\n",
       "</style>\n",
       "<table border=\"1\" class=\"dataframe\">\n",
       "  <thead>\n",
       "    <tr style=\"text-align: right;\">\n",
       "      <th>Predicted</th>\n",
       "      <th>Republican</th>\n",
       "      <th>Democratic</th>\n",
       "    </tr>\n",
       "    <tr>\n",
       "      <th>Actual</th>\n",
       "      <th></th>\n",
       "      <th></th>\n",
       "    </tr>\n",
       "  </thead>\n",
       "  <tbody>\n",
       "    <tr>\n",
       "      <th>Republican</th>\n",
       "      <td>24</td>\n",
       "      <td>4267</td>\n",
       "    </tr>\n",
       "    <tr>\n",
       "      <th>Democratic</th>\n",
       "      <td>32</td>\n",
       "      <td>5679</td>\n",
       "    </tr>\n",
       "  </tbody>\n",
       "</table>\n",
       "</div>"
      ],
      "text/plain": [
       "Predicted   Republican  Democratic\n",
       "Actual                            \n",
       "Republican          24        4267\n",
       "Democratic          32        5679"
      ]
     },
     "metadata": {},
     "output_type": "display_data"
    }
   ],
   "source": [
    "import pandas as pd\n",
    "\n",
    "df_results = pd.DataFrame(results).T\n",
    "df_results.index.name = \"Actual\"\n",
    "df_results.columns.name = \"Predicted\"\n",
    "display(df_results)\n"
   ]
  },
  {
   "cell_type": "code",
   "execution_count": 29,
   "metadata": {},
   "outputs": [
    {
     "name": "stdout",
     "output_type": "stream",
     "text": [
      "Actual: Republican | Predicted: Republican | Count: 24\n",
      "Actual: Republican | Predicted: Democratic | Count: 4267\n",
      "Actual: Democratic | Predicted: Republican | Count: 32\n",
      "Actual: Democratic | Predicted: Democratic | Count: 5679\n"
     ]
    }
   ],
   "source": [
    "for actual in results:\n",
    "    for predicted in results[actual]:\n",
    "        print(f\"Actual: {actual} | Predicted: {predicted} | Count: {results[actual][predicted]}\")\n"
   ]
  },
  {
   "cell_type": "code",
   "execution_count": 31,
   "metadata": {},
   "outputs": [
    {
     "data": {
      "image/png": "[encoded data removed]",
      "text/plain": [
       "<Figure size 600x400 with 2 Axes>"
      ]
     },
     "metadata": {},
     "output_type": "display_data"
    }
   ],
   "source": [
    "import seaborn as sns\n",
    "import matplotlib.pyplot as plt\n",
    "\n",
    "plt.figure(figsize=(6,4))\n",
    "sns.heatmap(df_results, annot=True, fmt=\"d\", cmap=\"Blues\")\n",
    "plt.title(\"Confusion Matrix (Actual vs Predicted)\")\n",
    "plt.show()\n"
   ]
  },
  {
   "cell_type": "markdown",
   "metadata": {},
   "source": [
    "### Reflections\n",
    "The classifier overwhelmingly predicted tweets as Democratic, even when they were actually from Republican candidates. It correctly identified most Democratic tweets but failed almost entirely to recognize Republican ones. This suggests the model may be biased due to imbalanced training data or a lack of distinctive Republican features."
   ]
  }
 ],
 "metadata": {
  "kernelspec": {
   "display_name": "base",
   "language": "python",
   "name": "python3"
  },
  "language_info": {
   "codemirror_mode": {
    "name": "ipython",
    "version": 3
   },
   "file_extension": ".py",
   "mimetype": "text/x-python",
   "name": "python",
   "nbconvert_exporter": "python",
   "pygments_lexer": "ipython3",
   "version": "3.11.5"
  }
 },
 "nbformat": 4,
 "nbformat_minor": 4
}
