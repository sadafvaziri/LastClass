{
 "cells": [
  {
   "cell_type": "markdown",
   "id": "f3e39063",
   "metadata": {},
   "source": [
    "# ADS 509 Module 3: Group Comparison \n",
    "\n",
    "The task of comparing two groups of text is fundamental to textual analysis. There are innumerable applications: survey respondents from different segments of customers, speeches by different political parties, words used in Tweets by different constituencies, etc. In this assignment you will build code to effect comparisons between groups of text data, using the ideas learned in reading and lecture.\n",
    "\n",
    "This assignment asks you to analyze the lyrics and Twitter descriptions for the two artists you selected in Module 1. If the results from that pull were not to your liking, you are welcome to use the zipped data from the “Assignment Materials” section. Specifically, you are asked to do the following: \n",
    "\n",
    "* Read in the data, normalize the text, and tokenize it. When you tokenize your Twitter descriptions, keep hashtags and emojis in your token set. \n",
    "* Calculate descriptive statistics on the two sets of lyrics and compare the results. \n",
    "* For each of the four corpora, find the words that are unique to that corpus. \n",
    "* Build word clouds for all four corpora. \n",
    "\n",
    "Each one of the analyses has a section dedicated to it below. Before beginning the analysis there is a section for you to read in the data and do your cleaning (tokenization and normalization). \n"
   ]
  },
  {
   "cell_type": "markdown",
   "id": "c6e65f73",
   "metadata": {},
   "source": [
    "## General Assignment Instructions\n",
    "\n",
    "These instructions are included in every assignment, to remind you of the coding standards for the class. Feel free to delete this cell after reading it. \n",
    "\n",
    "One sign of mature code is conforming to a style guide. We recommend the [Google Python Style Guide](https://google.github.io/styleguide/pyguide.html). If you use a different style guide, please include a cell with a link. \n",
    "\n",
    "Your code should be relatively easy-to-read, sensibly commented, and clean. Writing code is a messy process, so please be sure to edit your final submission. Remove any cells that are not needed or parts of cells that contain unnecessary code. Remove inessential `import` statements and make sure that all such statements are moved into the designated cell. \n",
    "\n",
    "Make use of non-code cells for written commentary. These cells should be grammatical and clearly written. In some of these cells you will have questions to answer. The questions will be marked by a \"Q:\" and will have a corresponding \"A:\" spot for you. *Make sure to answer every question marked with a `Q:` for full credit.* \n"
   ]
  },
  {
   "cell_type": "code",
   "execution_count": 3,
   "id": "abe420bf",
   "metadata": {},
   "outputs": [],
   "source": [
    "import os\n",
    "import re\n",
    "import emoji\n",
    "import pandas as pd\n",
    "\n",
    "from collections import Counter, defaultdict\n",
    "from nltk.corpus import stopwords\n",
    "from string import punctuation\n",
    "from wordcloud import WordCloud \n",
    "\n",
    "from sklearn.feature_extraction.text import TfidfTransformer, CountVectorizer\n"
   ]
  },
  {
   "cell_type": "code",
   "execution_count": null,
   "id": "a9f064bf",
   "metadata": {},
   "outputs": [],
   "source": [
    "# Use this space for any additional import statements you need\n",
    "\n"
   ]
  },
  {
   "cell_type": "code",
   "execution_count": 4,
   "id": "bcbe6342",
   "metadata": {},
   "outputs": [],
   "source": [
    "# Place any addtional functions or constants you need here. \n",
    "\n",
    "# Some punctuation variations\n",
    "punctuation = set(punctuation) # speeds up comparison\n",
    "tw_punct = punctuation - {\"#\"}\n",
    "\n",
    "# Stopwords\n",
    "sw = stopwords.words(\"english\")\n",
    "\n",
    "# Two useful regex\n",
    "whitespace_pattern = re.compile(r\"\\s+\")\n",
    "hashtag_pattern = re.compile(r\"^#[0-9a-zA-Z]+\")\n",
    "\n",
    "# It's handy to have a full set of emojis\n",
    "all_language_emojis = set()\n",
    "\n",
    "for country in emoji.EMOJI_DATA : \n",
    "    for em in emoji.EMOJI_DATA[country] : \n",
    "        all_language_emojis.add(em)\n",
    "\n",
    "# and now our functions\n",
    "def descriptive_stats(tokens, num_tokens = 5, verbose=True) :\n",
    "    \"\"\"\n",
    "        Given a list of tokens, print number of tokens, number of unique tokens, \n",
    "        number of characters, lexical diversity, and num_tokens most common\n",
    "        tokens. Return a list of \n",
    "    \"\"\"\n",
    "\n",
    "    # Place your Module 2 solution here\n",
    "    \n",
    "    return(0)\n",
    "\n",
    "\n",
    "    \n",
    "def contains_emoji(s):\n",
    "    \n",
    "    s = str(s)\n",
    "    emojis = [ch for ch in s if emoji.is_emoji(ch)]\n",
    "\n",
    "    return(len(emojis) > 0)\n",
    "\n",
    "\n",
    "def remove_stop(tokens) :\n",
    "    # modify this function to remove stopwords\n",
    "    return(tokens)\n",
    " \n",
    "def remove_punctuation(text, punct_set=tw_punct) : \n",
    "    return(\"\".join([ch for ch in text if ch not in punct_set]))\n",
    "\n",
    "def tokenize(text) : \n",
    "    \"\"\" Splitting on whitespace rather than the book's tokenize function. That \n",
    "        function will drop tokens like '#hashtag' or '2A', which we need for Twitter. \"\"\"\n",
    "    \n",
    "    # modify this function to return tokens\n",
    "    return(text)\n",
    "\n",
    "def prepare(text, pipeline) : \n",
    "    tokens = str(text)\n",
    "    \n",
    "    for transform in pipeline : \n",
    "        tokens = transform(tokens)\n",
    "        \n",
    "    return(tokens)\n"
   ]
  },
  {
   "cell_type": "markdown",
   "id": "47735524",
   "metadata": {},
   "source": [
    "## Data Ingestion\n",
    "\n",
    "Use this section to ingest your data into the data structures you plan to use. Typically this will be a dictionary or a pandas DataFrame."
   ]
  },
  {
   "cell_type": "code",
   "execution_count": null,
   "id": "ff88201f",
   "metadata": {},
   "outputs": [
    {
     "name": "stdout",
     "output_type": "stream",
     "text": [
      "Loaded cher data: 3994804 lines.\n",
      "Loaded robyn data: 358373 lines.\n"
     ]
    }
   ],
   "source": [
    "# Feel fre to use the below cells as an example or read in the data in a way you prefer\n",
    "\n",
    "# Define file path\n",
    "data_location = \"/Users/Sadafvaziri/downloads\"\n",
    "twitter_folder = \"twitter/\"\n",
    "full_twitter_path = os.path.join(data_location, twitter_folder)\n",
    "\n",
    "# Your artist-to-filename mapping\n",
    "artist_files = {\n",
    "    'cher': 'cher_followers_data.txt',\n",
    "    'robyn': 'robynkonichiwa_followers_data.txt'\n",
    "}\n",
    "\n",
    "# Read each file into a dictionary\n",
    "artist_data = {}\n",
    "\n",
    "for artist, filename in artist_files.items():\n",
    "    filepath = os.path.join(full_twitter_path, filename)\n",
    "    try:\n",
    "        with open(filepath, 'r', encoding='utf-8') as file:\n",
    "            artist_data[artist] = file.readlines()\n",
    "        print(f\"Loaded {artist} data: {len(artist_data[artist])} lines.\")\n",
    "    except FileNotFoundError:\n",
    "        print(f\"File not found: {filepath}\")\n",
    "\n"
   ]
  },
  {
   "cell_type": "code",
   "execution_count": null,
   "id": "674767d3",
   "metadata": {},
   "outputs": [
    {
     "name": "stdout",
     "output_type": "stream",
     "text": [
      "Loaded 316 files for cher, total 348885 characters.\n",
      "Loaded 104 files for robyn, total 147880 characters.\n"
     ]
    }
   ],
   "source": [
    "# read in the lyrics here\n",
    "\n",
    "\n",
    "data_location = \"/Users/Sadafvaziri/downloads\"\n",
    "lyrics_folder = \"lyrics/\"\n",
    "full_lyrics_path = os.path.join(data_location, lyrics_folder)\n",
    "\n",
    "# Folder names for each artist\n",
    "artist_folders = {\n",
    "    'cher': 'cher',\n",
    "    'robyn': 'robyn'\n",
    "}\n",
    "\n",
    "# Read and combine all lyrics files per artist\n",
    "lyrics_data = {}\n",
    "\n",
    "for artist, folder_name in artist_folders.items():\n",
    "    folder_path = os.path.join(full_lyrics_path, folder_name)\n",
    "    all_lyrics = []\n",
    "\n",
    "    try:\n",
    "        for file_name in os.listdir(folder_path):\n",
    "            if file_name.endswith('.txt'):\n",
    "                file_path = os.path.join(folder_path, file_name)\n",
    "                with open(file_path, 'r', encoding='utf-8') as f:\n",
    "                    all_lyrics.append(f.read())\n",
    "        lyrics_data[artist] = \"\\n\".join(all_lyrics)\n",
    "        print(f\"Loaded {len(all_lyrics)} files for {artist}, total {len(lyrics_data[artist])} characters.\")\n",
    "    except FileNotFoundError:\n",
    "        print(f\"Folder not found: {folder_path}\")\n",
    "\n",
    "\n"
   ]
  },
  {
   "cell_type": "markdown",
   "id": "f9892d14",
   "metadata": {},
   "source": [
    "## Tokenization and Normalization\n",
    "\n",
    "In this next section, tokenize and normalize your data. We recommend the following cleaning. \n",
    "\n",
    "**Lyrics** \n",
    "\n",
    "* Remove song titles\n",
    "* Casefold to lowercase\n",
    "* Remove stopwords (optional)\n",
    "* Remove punctuation\n",
    "* Split on whitespace\n",
    "\n",
    "Removal of stopwords is up to you. Your descriptive statistic comparison will be different if you include stopwords, though TF-IDF should still find interesting features for you. Note that we remove stopwords before removing punctuation because the stopword set includes punctuation.\n",
    "\n",
    "**Twitter Descriptions** \n",
    "\n",
    "* Casefold to lowercase\n",
    "* Remove stopwords\n",
    "* Remove punctuation other than emojis or hashtags\n",
    "* Split on whitespace\n",
    "\n",
    "Removing stopwords seems sensible for the Twitter description data. Remember to leave in emojis and hashtags, since you analyze those. "
   ]
  },
  {
   "cell_type": "code",
   "execution_count": 11,
   "id": "5ca379eb",
   "metadata": {},
   "outputs": [
    {
     "name": "stdout",
     "output_type": "stream",
     "text": [
      "  artist                                             lyrics  \\\n",
      "0   cher  \"Come And Stay With Me\"\\n\\n\\n\\nI'll send away ...   \n",
      "1  robyn  \"Include Me Out\"\\n\\n\\n\\nIt is really very simp...   \n",
      "\n",
      "                                              tokens  num_tokens  \n",
      "0  [come, stay, ill, send, away, false, pride, il...       35916  \n",
      "1  [include, really, simple, single, pulse, repea...       15227  \n",
      "  artist                                        description  \\\n",
      "0   cher  screen_name\\tname\\tid\\tlocation\\tfollowers_cou...   \n",
      "1   cher   hsmcnp\\tCountry Girl\\t35152213\\t\\t1302\\t1014\\t\\n   \n",
      "2   cher  horrormomy\\tJeny\\t742153090850164742\\tEarth\\t8...   \n",
      "3   cher  anju79990584\\tanju\\t1496463006451974150\\t\\t13\\...   \n",
      "4   cher     gallionjenna\\tJ\\t3366479914\\t\\t752\\t556\\tcsu\\n   \n",
      "\n",
      "                                              tokens  num_tokens  \n",
      "0  [screenname, name, id, location, followerscoun...           7  \n",
      "1      [hsmcnp, country, girl, 35152213, 1302, 1014]           6  \n",
      "2  [horrormomy, jeny, 742153090850164742, earth, ...          12  \n",
      "3  [anju79990584, anju, 1496463006451974150, 13, ...           8  \n",
      "4       [gallionjenna, j, 3366479914, 752, 556, csu]           6  \n"
     ]
    }
   ],
   "source": [
    "# apply the `pipeline` techniques from BTAP Ch 1 or 5\n",
    "\n",
    "import pandas as pd\n",
    "import re\n",
    "from nltk.corpus import stopwords\n",
    "from string import punctuation\n",
    "\n",
    "# Define preprocessing components\n",
    "stop_words = set(stopwords.words(\"english\"))\n",
    "tw_punct = set(punctuation) - {\"#\"}\n",
    "whitespace_pattern = re.compile(r\"\\s+\")\n",
    "\n",
    "# --- Pipeline functions ---\n",
    "\n",
    "def remove_punctuation(text, punct_set=tw_punct):\n",
    "    return \"\".join([ch for ch in text if ch not in punct_set])\n",
    "\n",
    "def tokenize(text):\n",
    "    return whitespace_pattern.split(str(text).strip())\n",
    "\n",
    "def remove_stop(tokens):\n",
    "    return [token for token in tokens if token.lower() not in stop_words]\n",
    "\n",
    "# Prepare function that runs text through the pipeline\n",
    "def prepare(text, pipeline):\n",
    "    tokens = str(text)\n",
    "    for transform in pipeline:\n",
    "        tokens = transform(tokens)\n",
    "    return tokens\n",
    "\n",
    "# --- Define pipeline (BTAP Chapter 1 or 5 style) ---\n",
    "my_pipeline = [str.lower, remove_punctuation, tokenize, remove_stop]\n",
    "\n",
    "# --- Load your lyrics_data and artist_data dicts beforehand ---\n",
    "\n",
    "# Turn lyrics dict into DataFrame\n",
    "lyrics_df = pd.DataFrame([\n",
    "    {'artist': artist, 'lyrics': text}\n",
    "    for artist, text in lyrics_data.items()\n",
    "])\n",
    "\n",
    "# Turn twitter dict into DataFrame\n",
    "twitter_df = pd.DataFrame([\n",
    "    {'artist': artist, 'description': desc}\n",
    "    for artist, desc_list in artist_data.items()\n",
    "    for desc in desc_list\n",
    "])\n",
    "\n",
    "# --- Apply pipeline ---\n",
    "\n",
    "# Lyrics\n",
    "lyrics_df[\"tokens\"] = lyrics_df[\"lyrics\"].apply(prepare, pipeline=my_pipeline)\n",
    "lyrics_df[\"num_tokens\"] = lyrics_df[\"tokens\"].map(len)\n",
    "\n",
    "# Twitter\n",
    "twitter_df[\"tokens\"] = twitter_df[\"description\"].apply(prepare, pipeline=my_pipeline)\n",
    "twitter_df[\"num_tokens\"] = twitter_df[\"tokens\"].map(len)\n",
    "\n",
    "# Optional: preview\n",
    "print(lyrics_df.head())\n",
    "print(twitter_df.head())\n"
   ]
  },
  {
   "cell_type": "code",
   "execution_count": 13,
   "id": "6cf534be",
   "metadata": {},
   "outputs": [
    {
     "name": "stdout",
     "output_type": "stream",
     "text": [
      "  artist                          clean_description  has_emoji\n",
      "0   cher                                description      False\n",
      "1   cher                                                 False\n",
      "2   cher   𝙿𝚛𝚘𝚞𝚍 𝚜𝚞𝚙𝚙𝚘𝚛𝚝𝚎𝚛 𝚘𝚏 𝚖𝚎𝚜𝚜𝚢 𝚋𝚞𝚗𝚜 & 𝚕𝚎𝚐𝚐𝚒𝚗𝚐𝚜      False\n",
      "3   cher  163㎝／愛かっぷ💜26歳🍒 工〇好きな女の子💓 フォローしてくれたらDMします🧡       True\n",
      "4   cher                                        csu      False\n"
     ]
    }
   ],
   "source": [
    "import emoji\n",
    "\n",
    "def contains_emoji(s):\n",
    "    s = str(s)\n",
    "    return any(char in emoji.EMOJI_DATA for char in s)\n",
    "\n",
    "# Clean up and extract actual description (adjust index if needed)\n",
    "twitter_df['clean_description'] = twitter_df['description'].apply(lambda x: x.split('\\t')[-1].strip())\n",
    "\n",
    "# Apply emoji detection\n",
    "twitter_df['has_emoji'] = twitter_df['clean_description'].apply(contains_emoji)\n",
    "\n",
    "# Preview\n",
    "print(twitter_df[['artist', 'clean_description', 'has_emoji']].head())\n",
    "\n"
   ]
  },
  {
   "cell_type": "markdown",
   "id": "7ec69ac9",
   "metadata": {},
   "source": [
    "Let's take a quick look at some descriptions with emojis."
   ]
  },
  {
   "cell_type": "code",
   "execution_count": 16,
   "id": "eac3f83b",
   "metadata": {},
   "outputs": [
    {
     "data": {
      "text/plain": [
       "artist\n",
       "cher     0.094505\n",
       "robyn    0.075246\n",
       "Name: has_emoji, dtype: float64"
      ]
     },
     "execution_count": 16,
     "metadata": {},
     "output_type": "execute_result"
    }
   ],
   "source": [
    "twitter_df.groupby(\"artist\")[\"has_emoji\"].mean()"
   ]
  },
  {
   "cell_type": "code",
   "execution_count": null,
   "id": "0a5a0512",
   "metadata": {},
   "outputs": [
    {
     "data": {
      "text/plain": [
       "clean_description\n",
       "❤️      531\n",
       "🏳️‍🌈    465\n",
       "❤       351\n",
       "✨       339\n",
       "🖤       264\n",
       "🦋       248\n",
       "😎       228\n",
       "✌️      224\n",
       "♥       218\n",
       "🌈       206\n",
       "Name: count, dtype: int64"
      ]
     },
     "execution_count": 15,
     "metadata": {},
     "output_type": "execute_result"
    }
   ],
   "source": [
    "\n",
    "\n",
    "twitter_df[twitter_df['has_emoji'] == True]['clean_description'].value_counts().head(10)\n"
   ]
  },
  {
   "cell_type": "markdown",
   "id": "4b2c55c9",
   "metadata": {},
   "source": [
    "With the data processed, we can now start work on the assignment questions. \n",
    "\n",
    "Q: What is one area of improvement to your tokenization that you could theoretically carry out? (No need to actually do it; let's not make perfect the enemy of good enough.)\n",
    "\n",
    "A: One area of improvement would be handling and preserving meaningful multi-word expressions (like “New York” or “social media”) as single tokens rather than splitting them into separate words. "
   ]
  },
  {
   "cell_type": "markdown",
   "id": "a1594271",
   "metadata": {},
   "source": [
    "## Calculate descriptive statistics on the two sets of lyrics and compare the results. \n"
   ]
  },
  {
   "cell_type": "code",
   "execution_count": 17,
   "id": "dc25e937",
   "metadata": {},
   "outputs": [],
   "source": [
    "# your code here\n",
    "\n",
    "from collections import Counter\n",
    "\n",
    "def descriptive_stats(tokens):\n",
    "    total = len(tokens)\n",
    "    unique = len(set(tokens))\n",
    "    lexical_diversity = unique / total if total > 0 else 0\n",
    "    most_common = Counter(tokens).most_common(10)\n",
    "    \n",
    "    return {\n",
    "        \"Total Tokens\": total,\n",
    "        \"Unique Tokens\": unique,\n",
    "        \"Lexical Diversity\": round(lexical_diversity, 3),\n",
    "        \"Top 10 Tokens\": most_common\n",
    "    }"
   ]
  },
  {
   "cell_type": "code",
   "execution_count": 18,
   "id": "19ff8c73",
   "metadata": {},
   "outputs": [
    {
     "name": "stdout",
     "output_type": "stream",
     "text": [
      "\n",
      "Descriptive Stats for Cher:\n",
      "Total Tokens: 35916\n",
      "Unique Tokens: 3703\n",
      "Lexical Diversity: 0.103\n",
      "Top 10 Tokens: [('love', 1004), ('im', 513), ('know', 486), ('dont', 440), ('youre', 333), ('time', 319), ('baby', 319), ('see', 308), ('oh', 306), ('one', 282)]\n",
      "\n",
      "Descriptive Stats for Robyn:\n",
      "Total Tokens: 15227\n",
      "Unique Tokens: 2156\n",
      "Lexical Diversity: 0.142\n",
      "Top 10 Tokens: [('know', 308), ('dont', 301), ('im', 299), ('love', 275), ('got', 251), ('like', 232), ('baby', 222), ('youre', 169), ('never', 155), ('dance', 150)]\n"
     ]
    }
   ],
   "source": [
    "# Assuming `lyrics_df` has a 'tokens' column and 'artist' column\n",
    "for artist in lyrics_df['artist'].unique():\n",
    "    tokens = lyrics_df[lyrics_df['artist'] == artist]['tokens'].values[0]\n",
    "    stats = descriptive_stats(tokens)\n",
    "    print(f\"\\nDescriptive Stats for {artist.title()}:\")\n",
    "    for k, v in stats.items():\n",
    "        print(f\"{k}: {v}\")\n"
   ]
  },
  {
   "cell_type": "markdown",
   "id": "67a2ada9",
   "metadata": {},
   "source": [
    "Q: what observations do you make about these data? \n",
    "\n",
    "A: Robyn's lyrics are shorter but more lexically diverse, suggesting a wider vocabulary relative to song length.\n",
    " Cher's lyrics repeat emotional themes like “love” and “baby” more frequently, reflecting a more classic pop style.\n"
   ]
  },
  {
   "cell_type": "markdown",
   "id": "750aa526",
   "metadata": {},
   "source": [
    "## Find tokens uniquely related to a corpus\n",
    "\n",
    "Typically we would use TF-IDF to find unique tokens in documents. Unfortunately, we either have too few documents (if we view each data source as a single document) or too many (if we view each description as a separate document). In the latter case, our problem will be that descriptions tend to be short, so our matrix would be too sparse to support analysis. \n",
    "\n",
    "To avoid these problems, we will create a custom statistic to identify words that are uniquely related to each corpus. The idea is to find words that occur often in one corpus and infrequently in the other(s). Since corpora can be of different lengths, we will focus on the _concentration_ of tokens within a corpus. \"Concentration\" is simply the count of the token divided by the total corpus length. For instance, if a corpus had length 100,000 and a word appeared 1,000 times, then the concentration would be $\\frac{1000}{100000} = 0.01$. If the same token had a concentration of $0.005$ in another corpus, then the concentration ratio would be $\\frac{0.01}{0.005} = 2$. Very rare words can easily create infinite ratios, so you will also add a cutoff to your code so that a token must appear at least $n$ times for you to return it. \n",
    "\n",
    "An example of these calculations can be found in [this spreadsheet](https://docs.google.com/spreadsheets/d/1P87fkyslJhqXFnfYezNYrDrXp_GS8gwSATsZymv-9ms). Please don't hesitate to ask questions if this is confusing. \n",
    "\n",
    "In this section find 10 tokens for each of your four corpora that meet the following criteria: \n",
    "\n",
    "1. The token appears at least `n` times in all corpora\n",
    "1. The tokens are in the top 10 for the highest ratio of appearances in a given corpora vs appearances in other corpora.\n",
    "\n",
    "You will choose a cutoff for yourself based on the side of the corpus you're working with. If you're working with the Robyn-Cher corpora provided, `n=5` seems to perform reasonably well."
   ]
  },
  {
   "cell_type": "code",
   "execution_count": 19,
   "id": "ce72f0a0",
   "metadata": {},
   "outputs": [],
   "source": [
    "# your code here\n",
    "\n",
    "def get_concentration(tokens):\n",
    "    total = len(tokens)\n",
    "    counts = Counter(tokens)\n",
    "    return {token: count / total for token, count in counts.items()}, counts\n",
    "\n",
    "def get_top_concentration_ratios(tokens_a, tokens_b, label_a, label_b, n=5, top_k=10):\n",
    "    conc_a, count_a = get_concentration(tokens_a)\n",
    "    conc_b, count_b = get_concentration(tokens_b)\n",
    "\n",
    "    ratios = {}\n",
    "    for token in conc_a:\n",
    "        if token in conc_b and count_a[token] >= n and count_b[token] >= n:\n",
    "            ratio = conc_a[token] / conc_b[token]\n",
    "            ratios[token] = ratio\n",
    "\n",
    "    sorted_tokens = sorted(ratios.items(), key=lambda x: x[1], reverse=True)[:top_k]\n",
    "    print(f\"\\nTop tokens in {label_a} vs {label_b} (n ≥ {n}):\")\n",
    "    for token, ratio in sorted_tokens:\n",
    "        print(f\"{token}: {round(ratio, 2)}\")\n",
    "    return sorted_tokens\n"
   ]
  },
  {
   "cell_type": "code",
   "execution_count": 20,
   "id": "efa1e3d0",
   "metadata": {},
   "outputs": [
    {
     "name": "stdout",
     "output_type": "stream",
     "text": [
      "\n",
      "Top tokens in Cher Lyrics vs Robyn Lyrics (n ≥ 5):\n",
      "walk: 10.01\n",
      "find: 9.68\n",
      "enough: 7.81\n",
      "man: 7.53\n",
      "without: 7.46\n",
      "strong: 6.53\n",
      "live: 5.77\n",
      "believe: 5.59\n",
      "tears: 4.83\n",
      "name: 4.41\n",
      "\n",
      "Top tokens in Robyn Lyrics vs Cher Lyrics (n ≥ 5):\n",
      "beat: 20.26\n",
      "dance: 14.15\n",
      "work: 11.95\n",
      "hang: 11.2\n",
      "forgive: 7.55\n",
      "shake: 7.08\n",
      "alright: 7.08\n",
      "party: 6.19\n",
      "space: 5.9\n",
      "pretend: 5.9\n"
     ]
    },
    {
     "data": {
      "text/plain": [
       "[('beat', 20.257112945657678),\n",
       " ('dance', 14.1522295921718),\n",
       " ('work', 11.950771655611742),\n",
       " ('hang', 11.203848427136009),\n",
       " ('forgive', 7.547855782491627),\n",
       " ('shake', 7.0761147960859),\n",
       " ('alright', 7.076114796085899),\n",
       " ('party', 6.191600446575163),\n",
       " ('space', 5.896762330071584),\n",
       " ('pretend', 5.896762330071583)]"
      ]
     },
     "execution_count": 20,
     "metadata": {},
     "output_type": "execute_result"
    }
   ],
   "source": [
    "cher_tokens = lyrics_df[lyrics_df['artist'] == 'cher']['tokens'].values[0]\n",
    "robyn_tokens = lyrics_df[lyrics_df['artist'] == 'robyn']['tokens'].values[0]\n",
    "\n",
    "# Cher distinctive tokens\n",
    "get_top_concentration_ratios(cher_tokens, robyn_tokens, 'Cher Lyrics', 'Robyn Lyrics', n=5)\n",
    "\n",
    "# Robyn distinctive tokens\n",
    "get_top_concentration_ratios(robyn_tokens, cher_tokens, 'Robyn Lyrics', 'Cher Lyrics', n=5)\n"
   ]
  },
  {
   "cell_type": "markdown",
   "id": "53526fcd",
   "metadata": {},
   "source": [
    "Q: What are some observations about the top tokens? Do you notice any interesting items on the list? \n",
    "\n",
    "A: The top tokens highlight clear thematic differences between Cher and Robyn's lyrics. Cher's list features emotionally weighted and introspective words like \"walk,\" \"find,\" \"enough,\" \"tears,\" and \"believe\", suggesting a focus on personal struggle, self-reflection, and emotional resilience.\n",
    "\n",
    "In contrast, Robyn's lyrics are dominated by energetic and physical words like \"beat,\" \"dance,\" \"work,\" \"shake,\" and \"party\", which emphasize movement, empowerment, and nightlife. The presence of words like \"forgive\" and \"pretend\" in Robyn’s list also hints at emotional complexity beneath the surface.\n",
    "\n",
    "One interesting item is \"beat\", which is over 20x more concentrated in Robyn’s lyrics—strongly reinforcing her association with electronic/dance music. Similarly, \"walk\" being the top distinctive token for Cher suggests a more metaphorical or reflective journey that's typical of classic pop ballads."
   ]
  },
  {
   "cell_type": "markdown",
   "id": "9f4f52b3",
   "metadata": {},
   "source": [
    "## Build word clouds for all four corpora. \n",
    "\n",
    "For building wordclouds, we'll follow exactly the code of the text. The code in this section can be found [here](https://github.com/blueprints-for-text-analytics-python/blueprints-text/blob/master/ch01/First_Insights.ipynb). If you haven't already, you should absolutely clone the repository that accompanies the book. \n"
   ]
  },
  {
   "cell_type": "markdown",
   "id": "f687361b",
   "metadata": {},
   "source": []
  },
  {
   "cell_type": "code",
   "execution_count": null,
   "id": "786b2af3",
   "metadata": {},
   "outputs": [],
   "source": [
    "from matplotlib import pyplot as plt\n",
    "\n",
    "plt.switch_backend('TkAgg')  # or 'QtAgg' depending on your system\n",
    "\n",
    "\n",
    "def wordcloud(word_freq, title=None, max_words=200, stopwords=None):\n",
    "\n",
    "    wc = WordCloud(width=800, height=400, \n",
    "                   background_color= \"black\", colormap=\"Paired\", \n",
    "                   max_font_size=150, max_words=max_words)\n",
    "    \n",
    "    # convert data frame into dict\n",
    "    if type(word_freq) == pd.Series:\n",
    "        counter = Counter(word_freq.fillna(0).to_dict())\n",
    "    else:\n",
    "        counter = word_freq\n",
    "\n",
    "    # filter stop words in frequency counter\n",
    "    if stopwords is not None:\n",
    "        counter = {token:freq for (token, freq) in counter.items() \n",
    "                              if token not in stopwords}\n",
    "    wc.generate_from_frequencies(counter)\n",
    " \n",
    "    plt.title(title) \n",
    "\n",
    "    plt.imshow(wc, interpolation='bilinear')\n",
    "    plt.axis(\"off\")\n",
    "    \n",
    "    \n",
    "def count_words(df, column='tokens', preprocess=None, min_freq=2):\n",
    "\n",
    "    # process tokens and update counter\n",
    "    def update(doc):\n",
    "        tokens = doc if preprocess is None else preprocess(doc)\n",
    "        counter.update(tokens)\n",
    "\n",
    "    # create counter and run through all data\n",
    "    counter = Counter()\n",
    "    df[column].map(update)\n",
    "\n",
    "    # transform counter into data frame\n",
    "    freq_df = pd.DataFrame.from_dict(counter, orient='index', columns=['freq'])\n",
    "    freq_df = freq_df.query('freq >= @min_freq')\n",
    "    freq_df.index.name = 'token'\n",
    "    \n",
    "    return freq_df.sort_values('freq', ascending=False)\n",
    "plt.show()  \n"
   ]
  },
  {
   "cell_type": "markdown",
   "id": "b11a2e53",
   "metadata": {},
   "source": [
    "Q: What observations do you have about these (relatively straightforward) wordclouds? \n",
    "\n",
    "A: "
   ]
  }
 ],
 "metadata": {
  "kernelspec": {
   "display_name": "base",
   "language": "python",
   "name": "python3"
  },
  "language_info": {
   "codemirror_mode": {
    "name": "ipython",
    "version": 3
   },
   "file_extension": ".py",
   "mimetype": "text/x-python",
   "name": "python",
   "nbconvert_exporter": "python",
   "pygments_lexer": "ipython3",
   "version": "3.11.5"
  }
 },
 "nbformat": 4,
 "nbformat_minor": 5
}
